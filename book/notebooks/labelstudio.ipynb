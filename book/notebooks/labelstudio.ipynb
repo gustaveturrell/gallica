{
 "cells": [
  {
   "cell_type": "markdown",
   "id": "1aa5575a-b160-4832-b8ba-ba86cb8ce009",
   "metadata": {
    "user_expressions": []
   },
   "source": [
    "# Guide de pratique pour Label Studio"
   ]
  },
  {
   "cell_type": "markdown",
   "id": "509b9b10-eb59-45d4-ad72-cfb74459645a",
   "metadata": {
    "user_expressions": []
   },
   "source": [
    "[Label Studio](https://labelstud.io/) est un outil d'annotation Open Source qui permet de façon flexible et collaborative de préparer un jeu de données et de valider des modèles AI. Il est possible d'accéder à Label Studio sur le serveur snoopy de la BnF, ou bien de l'installer localement sur sa machine."
   ]
  },
  {
   "cell_type": "markdown",
   "id": "ce8dba75-9ec4-4f22-8e77-9f32718cdcc4",
   "metadata": {
    "user_expressions": []
   },
   "source": [
    "## Confirguration et installation"
   ]
  },
  {
   "cell_type": "markdown",
   "id": "5c586063-9c8f-4186-a18a-545a80a56f0a",
   "metadata": {
    "user_expressions": []
   },
   "source": [
    "````{tab} PIP\n",
    "```{code-block}bash\n",
    "pip install -U label-studio\n",
    "label-studio\n",
    "```\n",
    "````\n",
    "````{tab} BREW\n",
    "```{code-block}bash\n",
    "brew install heartexlabs/tap/label-studio\n",
    "label-studio\n",
    "```\n",
    "````\n",
    "````{tab} GIT\n",
    "```{code-block}bash\n",
    "git clone https://github.com/heartexlabs/label-studio.git\n",
    "cd label-studio\n",
    "pip install -e .\n",
    "python label_studio/manage.py migrate\n",
    "python label_studio/manage.py collectstatic\n",
    "python label_studio/manage.py runserver\n",
    "```\n",
    "````\n",
    "````{tab} DOCKER\n",
    "```{code-block}bash\n",
    "docker run -it -p 8080:8080 -v `pwd`/mydata:/label-studio/data heartexlabs/label-studio:latest\n",
    "http://localhost:8080/\n",
    "```\n",
    "````"
   ]
  },
  {
   "cell_type": "code",
   "execution_count": null,
   "id": "1fdc9c84-99ff-4d0e-a665-274a67ad994a",
   "metadata": {
    "tags": [
     "command_line"
    ]
   },
   "outputs": [],
   "source": [
    "#Installation avec un environnement Anaconda\n",
    "conda create --name label-studio\n",
    "conda activate label-studio\n",
    "conda install psycopg2  # required for LS 1.7.2 only\n",
    "pip install label-studio"
   ]
  },
  {
   "cell_type": "code",
   "execution_count": null,
   "id": "76d41894-9b21-4b6a-bd4b-f9aff51296e2",
   "metadata": {
    "tags": [
     "command_line"
    ]
   },
   "outputs": [],
   "source": [
    "start label-studio"
   ]
  },
  {
   "cell_type": "code",
   "execution_count": null,
   "id": "0d909c1d-d10a-4eb8-9a64-2d7dfe9b7c89",
   "metadata": {
    "tags": [
     "command_line"
    ]
   },
   "outputs": [],
   "source": [
    "#Installtio d'un SDK pour utiliser Label Studio avec Python\n",
    "conda activate label-studio\n",
    "pip install label-studio-sdk"
   ]
  },
  {
   "cell_type": "markdown",
   "id": "1f5d43f6-fb7c-43c5-93e9-5a2f8a66a98a",
   "metadata": {
    "user_expressions": []
   },
   "source": [
    "```{admonition} snoopy\n",
    ":class: snoopy\n",
    "Pour se connecter sur Label Studio à partir d'un poste de la BnF, il suffit d'allez sur le serveur snoopy.\n",
    "```"
   ]
  },
  {
   "cell_type": "markdown",
   "id": "afce468d-8cef-45fb-831d-25e32a06127e",
   "metadata": {
    "tags": [],
    "user_expressions": []
   },
   "source": [
    "## Création d'un projet"
   ]
  },
  {
   "cell_type": "markdown",
   "id": "1748d02b-fd9d-4435-8fa2-152ccbcc7a08",
   "metadata": {
    "user_expressions": []
   },
   "source": [
    "\n",
    "Lors de votre première connexion il vous sera demandé de créer un compte nécessitant une adresse email et un mot de passe.\n",
    "Une fois arrivé sur l'interface vous avez la possibilité de consulter un projet déjà crée, ou de créer le votre, pour ce faire il vous suffit de cliquer sur `create`.   \n",
    "Chaque projet dispose d'un nom ainsi que d'une description (optionnelle), vous pouvez ensuite importer des fichiers de divers formats.   \n",
    "Pour l'importation d'un grand nombre de fichiers il vous faudra passer par le **Cloud Storage**, nous y reviendrons par la suite.\n",
    "\n",
    "Il vous seras également demandé de sélectionner un *template* pour l'interface, deux choix s'offre à vous: sélectionner un *template* déjà fournit par Label Studio où créer le votre, tout dépend de vos attentes en matière d'annotation. Le choix de *template* qu'offre Label Studio peut être limité, si vous souhaitez par exemple annoter du texte mais également des images il est sans doute préférable de créer votre propre interface.\n",
    "\n",
    "```{image} ./assets/create-project.gif\n",
    ":width: 1200px\n",
    ":align: center\n",
    "```"
   ]
  },
  {
   "cell_type": "markdown",
   "id": "b3fe80e5-df23-4105-af40-e0a8cceee768",
   "metadata": {
    "user_expressions": []
   },
   "source": [
    "### via l'Inferface"
   ]
  },
  {
   "cell_type": "markdown",
   "id": "65585bba-c4f7-43c4-a27f-5c4b5fcb4daa",
   "metadata": {
    "user_expressions": []
   },
   "source": [
    "Vous pouvez créer votre interface directement lors de la création de votre projet ou bien modifier et créer celui ci depuis  le bouton `settings` en haut à droite.\n",
    "\n",
    "```{important}\n",
    ":class: dropdown\n",
    "Une fois votre *template* créer, il est déconseillé de modifier celui-ci car l'ensemble de vos données annoter reposerons sur ce *template* donc soyez prudent et prenez le temps de construire celui-ci en accord avec vos attentes en termes d'annotation.\n",
    "```\n",
    "\n",
    "\n",
    "```{image} ./assets/labelling-interface.gif\n",
    ":width: 1200px\n",
    ":align: center\n",
    "```\n",
    "Depuis l'onglet `Labeling Interface` vous pouvez ajouter un ensemble de label mais également coder votre interface depuis l'onglet `code`.  \n",
    "Label Studio utilise un language XML.\n",
    "Il existe trois différent types de familles de *tags* pour contrôler et intéragir avec votre interface: `Object` `Control` `Visual`. L'ensemble des tags sont disponible [ici](https://labelstud.io/tags/#Create-a-custom-labeling-configuration) Ci-dessous un exemple de code qui permet l'annotation de divers zone graphique et textuelle à travers trois types d'outils, l'ellipse, le polygone et le rectangle.   \n",
    "Ce qu'il faut retenir c'est que la balise `<view>` agit comme une `<div>` en HTML et qu'elle est l'élément parent de l'ensemble des sous-balises.\n",
    "\n",
    "```{code-block} xml\n",
    ":linenos:\n",
    ":name: codetemplatelabelstudio\n",
    ":caption: Extrait d'un code XML pour l'interface Label Studio\n",
    "<View>\n",
    "<Image name=\"image\" value=\"$image\"/>  \n",
    "<Header value=\"zone graphique\"/>\n",
    "<Labels name=\"type\" toName=\"image\">\n",
    "<Label value=\"estampe\" background=\"#ff0000\"/>\n",
    "<Label value=\"photographie\" background=\"#007bff\"/>\n",
    "<Label value=\"dessin\" background=\"#fb00ff\"/>\n",
    "<Label value=\"décoration\" background=\"#8589ff\"/>\n",
    "<Label value=\"timbre\" background=\"#ff6bd8\"/>\n",
    "<Label value=\"tampon\" background=\"#FFA39E\"/></Labels>\n",
    "<Header value=\"zone textuelle\"/>\n",
    "<Labels name=\"transcription\" toName=\"image\">\n",
    "<Label value=\"écriture manuscrite\" background=\"#00ff4c\"/>\n",
    "<Label value=\"écriture typographique\" background=\"#a8b404\"/>\n",
    "</Labels>\n",
    "<Rectangle name=\"bbox\" toName=\"image\" strokeWidth=\"3\"/>\n",
    "<Polygon name=\"poly\" toName=\"image\" strokeWidth=\"3\"/>\n",
    "<Ellipse name=\"ellipse\" toName=\"image\"/>\n",
    "</View>\n",
    "```"
   ]
  },
  {
   "cell_type": "markdown",
   "id": "90e44396-5fab-42fd-bbd5-ddcf0d51c2ec",
   "metadata": {
    "tags": [],
    "user_expressions": []
   },
   "source": [
    "### via le SDK Label Studio"
   ]
  },
  {
   "cell_type": "markdown",
   "id": "17afad1e-2de2-4a65-bf76-3e8ce6c5e7c8",
   "metadata": {
    "tags": [],
    "user_expressions": []
   },
   "source": [
    "Il vous faudra votre *TOKEN* afin d'utiliser le SDK. Celui-ci est disponible en cliquant sur la *tab* utilisateur en haut à droite.\n",
    "\n",
    "```{image} ./assets/tabuser.png\n",
    ":width: 400px\n",
    ":align: center\n",
    "```\n",
    "```{image} ./assets/accesstoken.png\n",
    ":width: 600px\n",
    ":align: center\n",
    "```"
   ]
  },
  {
   "cell_type": "code",
   "execution_count": 48,
   "id": "23025faf-7121-4b0a-9151-c145f5ccc868",
   "metadata": {
    "tags": []
   },
   "outputs": [],
   "source": [
    "from label_studio_sdk.client import Client\n",
    "from label_studio_sdk.project import Project\n",
    "import requests\n",
    "import os"
   ]
  },
  {
   "cell_type": "code",
   "execution_count": 35,
   "id": "22dc7c2b-4022-43b7-9b3c-2a4cc617d7b5",
   "metadata": {
    "tags": []
   },
   "outputs": [],
   "source": [
    "URL = 'http://localhost:8080'\n",
    "API_KEY = '36908b5e712c188d28c5b94bcda2f5209cf2ec93'\n",
    "path_storage = 'C:\\\\Users\\\\gusta\\\\Desktop\\\\gallicapix_images\\\\images'"
   ]
  },
  {
   "cell_type": "code",
   "execution_count": 36,
   "id": "c75a119d-6b17-48b3-9f85-2df0aa690135",
   "metadata": {
    "tags": []
   },
   "outputs": [],
   "source": [
    "templates = \"\"\"\n",
    "<View>\n",
    "<Image name=\"image\" value=\"$image\"/>  \n",
    "<Header value=\"zone graphique\"/>\n",
    "<Labels name=\"type\" toName=\"image\">\n",
    "<Label value=\"estampe\" background=\"#ff0000\"/>\n",
    "<Label value=\"photographie\" background=\"#007bff\"/>\n",
    "<Label value=\"dessin\" background=\"#fb00ff\"/>\n",
    "<Label value=\"décoration\" background=\"#8589ff\"/>\n",
    "<Label value=\"timbre\" background=\"#ff6bd8\"/>\n",
    "<Label value=\"tampon\" background=\"#FFA39E\"/></Labels>\n",
    "<Header value=\"zone textuelle\"/>\n",
    "<Labels name=\"transcription\" toName=\"image\">\n",
    "<Label value=\"écriture manuscrite\" background=\"#00ff4c\"/>\n",
    "<Label value=\"écriture typographique\" background=\"#a8b404\"/>\n",
    "</Labels>\n",
    "<Rectangle name=\"bbox\" toName=\"image\" strokeWidth=\"3\"/>\n",
    "<Polygon name=\"poly\" toName=\"image\" strokeWidth=\"3\"/>\n",
    "<Ellipse name=\"ellipse\" toName=\"image\"/>\n",
    "</View>\n",
    "\"\"\""
   ]
  },
  {
   "cell_type": "code",
   "execution_count": 37,
   "id": "27ab019a-63d2-4b76-b687-781924fc3b09",
   "metadata": {
    "tags": []
   },
   "outputs": [],
   "source": [
    "#Fonction qui vérifie la connexion et qui crée un obj Client\n",
    "def check_connection(url, access_token):\n",
    "    ls = Client(url,access_token)\n",
    "    checking, = ls.check_connection().values()\n",
    "    if checking == 'UP':\n",
    "        return ls \n",
    "    else: \n",
    "        print('La connection à échouer. Vérifier le domain où la clée')"
   ]
  },
  {
   "cell_type": "code",
   "execution_count": 39,
   "id": "f3c4a263-d237-45e8-bc1b-9035469d8c5e",
   "metadata": {
    "tags": []
   },
   "outputs": [],
   "source": [
    "#Fonction qui crée un projet, si celui-ci existe déjà il retourne l'identifiant du projet\n",
    "def get_or_set_project(client,**kwargs):\n",
    "\tkwargs['label_config'] = templates\n",
    "\n",
    "\tprojects = client.list_projects()\n",
    "\tlist_projects = [obj.get_params() for obj in projects]\n",
    "\n",
    "\n",
    "\tfor obj in list_projects:\n",
    "\t\tif kwargs['title'] == obj['title']:\n",
    "\t\t\turl = client.get_url('projects') + \"/\" + str(obj['id'])\n",
    "\t\t\tprint(f'{\"[GET]\":10}|{obj[\"title\"]}\\n{\"\":10}|par {obj[\"created_by\"][\"email\"]:5}\\n{\"\":10}|{url}\\n')\n",
    "\t\t\treturn client.get_project(obj['id'])\n",
    "\t\telse: \n",
    "\t\t\tpost_project = client.start_project(**kwargs)\n",
    "\t\t\tpost_params = post_project.get_params()\n",
    "\t\t\turl = client.get_url('projects') + \"/\" + str(post_params['id'])\n",
    "\t\t\tprint(f'{\"[POST]\":10}|{kwargs[\"title\"]}\\n{\"\":10}|par {post_params[\"created_by\"][\"email\"]}\\n{\"\":10}|{url}\\n')\n",
    "\t\t\treturn post_project"
   ]
  },
  {
   "cell_type": "code",
   "execution_count": 41,
   "id": "52e76af0-baec-4248-bb0c-c6eca55a222f",
   "metadata": {
    "tags": [
     "hide-output"
    ]
   },
   "outputs": [
    {
     "name": "stdout",
     "output_type": "stream",
     "text": [
      "[POST]    |demo_label-studio\n",
      "          |par mkdir.cultural.analytics@gmail.com\n",
      "          |http://localhost:8080/projects/34\n",
      "\n"
     ]
    }
   ],
   "source": [
    "client = check_connection(URL, API_KEY)\n",
    "project = get_or_set_project(client, title='demo_label-studio')"
   ]
  },
  {
   "cell_type": "markdown",
   "id": "01e6b257-caa9-46b7-aa80-c2fd3e93385b",
   "metadata": {
    "tags": [],
    "user_expressions": []
   },
   "source": [
    "## Importation local de donnée via Cloud Storage"
   ]
  },
  {
   "cell_type": "markdown",
   "id": "d49e0d18-8c80-404a-91c8-061f58e6ccde",
   "metadata": {
    "tags": [],
    "user_expressions": []
   },
   "source": [
    "### via l'Interface"
   ]
  },
  {
   "cell_type": "markdown",
   "id": "2d2811ad-d15f-4027-9c85-75790d9eb03d",
   "metadata": {
    "user_expressions": []
   },
   "source": [
    "Pour l'importation d'un grand nombre de donnée il est nécessaire de passer par le *Cloud Storage* de Label Studio qui permet de synchroniser des données présente localement sur votre machine ou à distance par biais d'une base de données.   \n",
    "Pour utiliser l'interface il vous suffit d'allez dans `Settings` et `Cloud Storage` et cliquer sur `Add Source Storage`.  \n",
    "Il vous faudra également ajouter des variables d'environnement si cela n'est pas déjà fait. Pour indiquer le chemin du dossier que vous souhaitez synchroniser et activer le service de synchronisation."
   ]
  },
  {
   "cell_type": "code",
   "execution_count": null,
   "id": "e53592f8-9856-4a58-b5ba-76815aeedd31",
   "metadata": {
    "tags": [
     "command_line"
    ]
   },
   "outputs": [],
   "source": [
    "export LABEL_STUDIO_LOCAL_FILES_SERVING_ENABLED=true\n",
    "export LABEL_STUDIO_LOCAL_FILES_DOCUMENT_ROOT=/home/user \n",
    "#Pour windows\n",
    "setx LABEL_STUDIO_LOCAL_FILES_DOCUMENT_ROOT=C:\\\\data\\\\media"
   ]
  },
  {
   "cell_type": "markdown",
   "id": "8efbe3e7-c42d-4feb-b362-1235c84d7a72",
   "metadata": {
    "user_expressions": []
   },
   "source": [
    "```{admonition} snoopy\n",
    ":class: snoopy\n",
    "Sur le serveur snoopy le dossier est synchronisé à l'adresse suivante: `LABEL_STUDIO_FILES_DOCUMENT_ROOT=/data/images_gallicapix`\n",
    "```"
   ]
  },
  {
   "cell_type": "markdown",
   "id": "759dc908-e9b3-4de0-ab37-b19dc087c077",
   "metadata": {
    "user_expressions": []
   },
   "source": [
    "```{image} ./assets/cloud-storage.png\n",
    ":width: 600px\n",
    ":align: center\n",
    "```\n",
    "\n",
    "Vous pouvez ensuite créer un *storage* en lui attribuant un nom et en précisant le chemin du dossier à synchroniser, celui-ci doit être un enfant de la variable `LABEL_STUDIO_LOCAL_FILES_DOCUMENT_ROOT` *(vous pouvez également filtrer les fichiers avec une regex)*. Cliquez ensuite sur `Add Storage` et `Sync Storage` pour importer ou synchroniser les fichiers."
   ]
  },
  {
   "cell_type": "markdown",
   "id": "2eb63311-6d54-41b4-a045-7ebccdd83ba3",
   "metadata": {
    "user_expressions": []
   },
   "source": [
    "### via le SDK Label Studio"
   ]
  },
  {
   "cell_type": "code",
   "execution_count": 1,
   "id": "6da992dc-8b81-4b7e-92fc-e2cb1b40b11c",
   "metadata": {
    "tags": []
   },
   "outputs": [],
   "source": [
    "# Fonction qui crée un storage ci celui-ci n'existe pas. Il récupère son idendifiant dans le cas contraire.\n",
    "def get_or_set_local_storage(project, **kwargs):\n",
    "\n",
    "\theaders = headers = {'Authorization': f'Token {API_KEY}'}\n",
    "\tid_ = str(project.get_params()[\"id\"])\n",
    "\tparams = (('project', id_),)\t\n",
    "\tresponse = requests.get(f'{URL}/api/storages/localfiles/', headers=headers, params=params)\n",
    "\n",
    "\tlist_storages = []\n",
    "\tif response.status_code == 200:\n",
    "\t\tlist_storages = response.json()\n",
    "\t\n",
    "\tfor obj in list_storages:\n",
    "\t\tif obj['path'] == kwargs['local_store_path']:\n",
    "\t\t\tprint(f\"{'[GET]':10}|<{obj['path']}>\\n{'':10}|crée le {parser.parse(obj['created_at']).strftime('%d/%m/%Y %H:%M')}\\n\")\n",
    "\t\t\treturn obj\n",
    "\telse:\n",
    " \t\tstorage = project.connect_local_import_storage(**kwargs)\n",
    " \t\tprint(f\"{'[POST]':10}|ajoute le localstorage <{kwargs['local_store_path']}>\")\n",
    " \t\treturn storage"
   ]
  },
  {
   "cell_type": "code",
   "execution_count": 45,
   "id": "9a5083b9-34a6-4862-ae49-20ddb898154c",
   "metadata": {
    "tags": [
     "hide-output"
    ]
   },
   "outputs": [
    {
     "name": "stdout",
     "output_type": "stream",
     "text": [
      "[POST]    |ajoute le localstorage <C:\\Users\\gusta\\Desktop\\gallicapix_images\\images>\n"
     ]
    }
   ],
   "source": [
    "path_storage = 'C:\\\\Users\\\\gusta\\\\Desktop\\\\gallicapix_images\\\\images'\n",
    "storage = get_or_set_local_storage(project,local_store_path=path_storage)"
   ]
  },
  {
   "cell_type": "code",
   "execution_count": 2,
   "id": "2fffb3c4-4ab8-4579-b439-d246e040df18",
   "metadata": {
    "tags": []
   },
   "outputs": [],
   "source": [
    "#Fonction pour synchroniser le 'storage'\n",
    "def sync_local_storage(client, storage):\n",
    "\tid_ = storage['id']\n",
    "\ttype_ = storage['type']\n",
    "\tfiles = len([image for root, dirs, file  in os.walk(storage['path']) for image in file])\n",
    "\tlast_sync = f'scan précédent le {parser.parse(storage[\"last_sync\"]).strftime(\"%d/%m/%Y %H:%M\")}' if storage['last_sync'] else ''\n",
    "\n",
    "\tprint(f\"{'[SYNC]':10}|{storage['path']}\\n{'files':10}|{files} fichiers présent dans le {type_}\\n{'scan..':10}|{last_sync}\")\n",
    "\tsync =  client.sync_storage(type_, id_)\n",
    "\tprint(f\"{'add':10}|{sync['last_sync_count']} fichiers\\n\")"
   ]
  },
  {
   "cell_type": "code",
   "execution_count": 49,
   "id": "2f5c16da-ace5-40a8-8156-72924ff8ef66",
   "metadata": {
    "tags": [
     "hide-output"
    ]
   },
   "outputs": [
    {
     "name": "stdout",
     "output_type": "stream",
     "text": [
      "[SYNC]    |C:\\Users\\gusta\\Desktop\\gallicapix_images\\images\n",
      "files     |13416 fichiers présent dans le localfiles\n",
      "scan..    |\n",
      "add       |13416 fichiers\n",
      "\n"
     ]
    }
   ],
   "source": [
    "#Peut-être long dépend du nombre de données à synchroniser\n",
    "sync_local_storage(client,storage)"
   ]
  },
  {
   "cell_type": "markdown",
   "id": "29697cd2-9625-4824-b3f7-5b350c8d2dc7",
   "metadata": {
    "user_expressions": []
   },
   "source": [
    "## Annotation"
   ]
  },
  {
   "cell_type": "markdown",
   "id": "969b120d-d4f6-41f1-b93e-65faf529d2cb",
   "metadata": {
    "user_expressions": []
   },
   "source": [
    "Pour l'interface d'annotation il est possible de créer différent onglets avec différent filtres afin d'organiser l'ensemble de ces données.   \n",
    "Lors du téléchargement des images avec le module [`iiif_from_csv.collecting_image()`](namefordoc) il est possible d'attribuer à chaque image un `name` qui permet ainsi de créer des classes d'images en plus des *form* IIIF présentes dans le nom de fichier.  \n",
    "Tout cela réunit permet de contrôler de manière très fine le type d'images que l'on souhaite filtrer *(il existe également d'autres types de filtres au délà du nom de l'image).*\n",
    "\n",
    "```{image} ./assets/create-tab.gif\n",
    ":width: 1100px\n",
    ":align: center\n",
    "```\n",
    "Pour commencer l'annotation il suffit de cliquer sur une image et sélectionner un outil d'annotation ainsi qu'un label. Plusieurs filtres sont également disponible en fonction de la méthodologie adoptée. Une fois l'annotation achevée, cliquer sur le bouton `submit` afin de valider celle-ci. Une date d'annotation seras alors attribué à l'image ainsi que son annotateur. \n",
    "\n",
    "```{image} ./assets/do_annotation.gif\n",
    ":width: 1100px\n",
    ":align: center\n",
    "```\n"
   ]
  },
  {
   "cell_type": "markdown",
   "id": "b008f243-0920-484c-bda8-d836b805a9cb",
   "metadata": {
    "tags": [],
    "user_expressions": []
   },
   "source": [
    "### Exportation des annotations"
   ]
  },
  {
   "cell_type": "markdown",
   "id": "0cebeeb5-8335-4a7e-bc93-9e190d5bb54f",
   "metadata": {
    "tags": [],
    "user_expressions": []
   },
   "source": [
    "Il existe plusieurs format d'exportation, le format `.json` est le format par défaut de Label Studio, il incorpore l'ensemble des métadonnées issues de l'application ainsi que les informations de segmentation.\n",
    "Les quatres clées essentielles à retenir ici sont: \n",
    "1. `id` qui indique l'identifiant unique et recherchable pour l'image en question à l'intérieur de l'application. \n",
    "2. `annotations` qui regroupe l'ensemble des métadonnées concernant les annotations, la clée `result` contient une liste d'annotations\n",
    "3. `predictions` qui regroupe l'ensemble des prédications *(quand un modèle est lancé depuis l'application)* \n",
    "4. `data` qui indique le chemin de la donnée *(ici une image)*\n",
    "\n",
    "```{code-block} json\n",
    ":linenos:\n",
    ":emphasize-lines: 2,3,7,26,27,13\n",
    ":caption: Exemple de métadonnée associées à une image\n",
    "{\n",
    "\"id\": 158833,\n",
    "\"annotations\":[\n",
    "    {\n",
    "    \"id\": 2801,\n",
    "    \"completed_by\": 1,\n",
    "    \"result\":[],\n",
    "    \"was_cancelled\": false,\n",
    "    \"ground_truth\": false,\n",
    "    \"created_at\": \"2023-05-06T22:34:35.346372Z\",\n",
    "    \"updated_at\": \"2023-05-06T22:34:35.346372Z\",\n",
    "    \"lead_time\": null,\n",
    "    \"prediction\":{},\n",
    "    \"result_count\": 0,\n",
    "    \"unique_id\": \"0f4a00d7-cc55-46f4-8c51-75e57ffc60f7\",\n",
    "    \"last_action\": null,\n",
    "    \"task\": 158833,\n",
    "    \"project\": 30,\n",
    "    \"updated_by\": 1,\n",
    "    \"parent_prediction\": null,\n",
    "    \"parent_annotation\": null,\n",
    "    \"last_created_by\": null\n",
    "    }\n",
    "],\n",
    "\"drafts\":[],\n",
    "\"predictions\":[],\n",
    "\"data\":{\"image\": \"/data/local-files/?d=Users%5Cgusta%5CDesktop%5Cgallicapix_images%5Cimages%5Caffiche%5Cbpt6k6964173h%24f1%24full%24%211212_777%240%24native_affiche.jpg\"},\n",
    "\"meta\":{},\n",
    "\"created_at\": \"2023-05-06T22:18:16.976585Z\",\n",
    "\"updated_at\": \"2023-05-06T22:34:35.385910Z\",\n",
    "\"inner_id\": 1,\n",
    "\"total_annotations\": 1,\n",
    "\"cancelled_annotations\": 0,\n",
    "\"total_predictions\": 0,\n",
    "\"comment_count\": 0,\n",
    "\"unresolved_comment_count\": 0,\n",
    "\"last_comment_updated_at\": null,\n",
    "\"project\": 30,\n",
    "\"updated_by\": 1,\n",
    "\"comment_authors\":[]\n",
    "}\n",
    "```"
   ]
  },
  {
   "cell_type": "code",
   "execution_count": 3,
   "id": "89351c01-2b81-4e8d-8e57-40b745e82105",
   "metadata": {
    "tags": [
     "hide-output"
    ]
   },
   "outputs": [
    {
     "name": "stdout",
     "output_type": "stream",
     "text": [
      "750\n"
     ]
    }
   ],
   "source": [
    "import json\n",
    "export_labelstudio = open('./data/labelstudio/project-30-at-2023-05-09-16-12-caaecfb1.json', 'r', encoding='utf8')\n",
    "dataset = json.load(export_labelstudio)\n",
    "print(len(dataset)) #Nombre d'images présent dans jeu de donnée"
   ]
  },
  {
   "cell_type": "code",
   "execution_count": 4,
   "id": "000c412c-a351-486b-b3a3-fbbe6501b0de",
   "metadata": {
    "tags": [
     "hide-output"
    ]
   },
   "outputs": [
    {
     "data": {
      "text/plain": [
       "(158833,\n",
       " {'image': '/data/local-files/?d=Users%5Cgusta%5CDesktop%5Cgallicapix_images%5Cimages%5Caffiche%5Cbpt6k6964173h%24f1%24full%24%211212_777%240%24native_affiche.jpg'},\n",
       " [])"
      ]
     },
     "execution_count": 4,
     "metadata": {},
     "output_type": "execute_result"
    }
   ],
   "source": [
    "dataset[0]['id'],dataset[0]['data'],dataset[0]['predictions']"
   ]
  },
  {
   "cell_type": "code",
   "execution_count": 7,
   "id": "2b962f49-ff76-40a8-bd1e-162329f1e9fd",
   "metadata": {
    "tags": [
     "hide-output"
    ]
   },
   "outputs": [
    {
     "data": {
      "text/plain": [
       "{'original_width': 348,\n",
       " 'original_height': 544,\n",
       " 'image_rotation': 0,\n",
       " 'value': {'x': 16.761363636363637,\n",
       "  'y': 9.25589836660617,\n",
       "  'width': 69.60227272727273,\n",
       "  'height': 89.11070780399274,\n",
       "  'rotation': 0},\n",
       " 'id': 'FB7KgtTRmh',\n",
       " 'from_name': 'bbox',\n",
       " 'to_name': 'image',\n",
       " 'type': 'rectangle',\n",
       " 'origin': 'manual'}"
      ]
     },
     "execution_count": 7,
     "metadata": {},
     "output_type": "execute_result"
    }
   ],
   "source": [
    "#Métadonnée concernant la première annotation de la première image\n",
    "dataset[0]['annotations'][0]['result'][0]"
   ]
  },
  {
   "cell_type": "markdown",
   "id": "bff87be3-0e81-4de5-bdcd-c89d9ccb198b",
   "metadata": {
    "tags": [],
    "user_expressions": []
   },
   "source": [
    "### Importation des annotations (depuis une autre application)"
   ]
  },
  {
   "cell_type": "markdown",
   "id": "6b39ac56-83de-4f5a-bf69-65b072eaef22",
   "metadata": {
    "user_expressions": []
   },
   "source": [
    "Dans le cas éventuel ou plusieurs personnes travailleraient ensemble sur des appplications différentes, il peut-être difficile d'importer et de synchroniser l'ensemble des données. \n",
    "Le serveur snoopy de la BnF reste l'application de référence en terme de collaboration, dans le cas contraire ou une personne aimerais importer des annotations sur des données qui se trouvent déjà présente sur l'application Label Studio de snoopy. Il est possible via le SDK d'importer des images.\n",
    "\n",
    "Ici un exemple d'une solution de contournement, qui repose et qui fonctionne uniquement parce que l'image est de même dimension et que l'ark et l'instance de l'image sont présent dans les deux noms de fichiers. Si des images sont distribuer sur plusieurs applications il est conseillé d'utiliserle module [`iiif_from_csv.collecting_image()`](namefordoc) car le nom des fichiers sont formattés de façon précise et fine."
   ]
  },
  {
   "cell_type": "code",
   "execution_count": 9,
   "id": "837cd183-dcd8-4f98-8c7e-85db0d186beb",
   "metadata": {
    "tags": [
     "hide-output"
    ]
   },
   "outputs": [
    {
     "name": "stdout",
     "output_type": "stream",
     "text": [
      "/data/local-files/?d=Users%5Cgusta%5CDesktop%5Cgallicapix_images%5Cimages%5Caffiche%5Cbpt6k6964173h%24f1%24full%24%211212_777%240%24native_affiche.jpg\n",
      "/data/local-files/?d=Users\\gusta\\Desktop\\gallicapix_images\\images\\affiche\\bpt6k6964173h$f1$full$!1212_777$0$native_affiche.jpg\n"
     ]
    }
   ],
   "source": [
    "import re\n",
    "from urllib.parse import unquote\n",
    "#Permet de parse un URL si le fichier comprend des caractères qui ont été normaliser par Label Studio\n",
    "url = unquote(dataset[0]['data']['image'])\n",
    "print(dataset[0]['data']['image'])\n",
    "print(url)"
   ]
  },
  {
   "cell_type": "code",
   "execution_count": 10,
   "id": "b45715e6-b502-41fc-a6d6-a8d36f10e02a",
   "metadata": {
    "tags": [
     "hide-output"
    ]
   },
   "outputs": [
    {
     "data": {
      "text/plain": [
       "'bpt6k6964173hf1full!1212_7770native_affiche.jpg'"
      ]
     },
     "execution_count": 10,
     "metadata": {},
     "output_type": "execute_result"
    }
   ],
   "source": [
    "#Nettoyage de la chaîne de caractère\n",
    "url_norm = url.split('\\\\')[-1].replace('$','')\n",
    "url_norm"
   ]
  },
  {
   "cell_type": "code",
   "execution_count": 11,
   "id": "8b04a481-5289-4c82-8ac3-4e4b6ea6a603",
   "metadata": {
    "tags": [
     "hide-output"
    ]
   },
   "outputs": [
    {
     "data": {
      "text/plain": [
       "'bpt6k6964173hf1'"
      ]
     },
     "execution_count": 11,
     "metadata": {},
     "output_type": "execute_result"
    }
   ],
   "source": [
    "#Regex qui récupère l'ark et l'instance pour l'image en question 'f1', cette information peut nous servir de clée de jointure\n",
    "re.findall(r'(.*)full',url_norm)[0]"
   ]
  },
  {
   "cell_type": "code",
   "execution_count": 114,
   "id": "ef8114a7-9405-43ce-86cc-6eaf030cb3c9",
   "metadata": {
    "tags": []
   },
   "outputs": [],
   "source": [
    "'''\n",
    "Un exemple de fonction qui peut être utilisée pour retrouver les images présent sur l'application,\n",
    "en utilisant l'ark et l'instance de l'image. \n",
    "Note: La recherche se fait de façon séquentielle et n'est sans pas la plus optimale\n",
    "'''\n",
    "def add_annotation_from_extern(project,external_source):\n",
    "    #REGEX\n",
    "    def regexcompiler(str, regex):\n",
    "        return re.findall(r'(.*)full', str)[0]\n",
    "    list_tasks = project.tasks # requête l'application afin de récupérer l'ensemble des tasks (image/métadonnée)\n",
    "    # Créer une liste avec tuple (ark/image, result)\n",
    "    ext_id_annotation = [(regexcompiler(unquote(obj['data']['image']).split('\\\\')[-1].replace('$',''),regex_out), obj['annotations'][0][\"result\"]) for obj in external_source]\n",
    "    adding = 0\n",
    "    #Boucle autour des tacks présent dans l'application\n",
    "    for obj in list_tasks:\n",
    "        #Décode le chemin URL de chaque tasks et le reformate\n",
    "        decode = unquote(obj['data']['image']).split('\\\\')[-1].replace('$','')\n",
    "        #Récupère l'ark/image\n",
    "        ark = regexcompiler(decode,r'(.*)full')\n",
    "        #Boucle autours des tasks présent dans le dataset\n",
    "        for id_, result_ in ext_id_annotation:\n",
    "            #Vérifie que les tasks ne comporte pas d'annotations et que la jointure entre les deux arks/image est 'true'\n",
    "            if (len(obj['annotations']) == 0) and (ark == id_):\n",
    "                #Incrémente le compteur\n",
    "                adding += 1\n",
    "                #Ajoute les annotations\n",
    "                print(f\"{'[POST]':10}|annotation pour l'id: {obj['id']} ark: {ark}\")\n",
    "                project.create_annotation(task_id=obj['id'], result=result_)\n",
    "    print(f\"{'resume':10}|{adding} annotations ajoutées\")"
   ]
  },
  {
   "cell_type": "code",
   "execution_count": 115,
   "id": "fc78560f-9105-40c5-a565-1eed19ad3f79",
   "metadata": {
    "tags": [
     "hide-output"
    ]
   },
   "outputs": [
    {
     "name": "stdout",
     "output_type": "stream",
     "text": [
      "[POST]    |annotation pour l'id: 172249 ark: bpt6k6964173hf1\n",
      "[POST]    |annotation pour l'id: 172250 ark: bpt6k69646507f1\n",
      "[POST]    |annotation pour l'id: 172251 ark: bpt6k69646893f1\n",
      "[POST]    |annotation pour l'id: 172252 ark: bpt6k9764501jf1\n",
      "[POST]    |annotation pour l'id: 172333 ark: btv1b100501693f1\n",
      "[POST]    |annotation pour l'id: 172337 ark: btv1b10050505bf1\n",
      "[POST]    |annotation pour l'id: 172339 ark: btv1b10051224xf1\n",
      "[POST]    |annotation pour l'id: 172340 ark: btv1b10051250cf1\n",
      "[POST]    |annotation pour l'id: 172341 ark: btv1b100512797f1\n",
      "[POST]    |annotation pour l'id: 172345 ark: btv1b10052973jf1\n",
      "[POST]    |annotation pour l'id: 172346 ark: btv1b100529812f1\n",
      "[POST]    |annotation pour l'id: 172347 ark: btv1b10052985vf1\n",
      "[POST]    |annotation pour l'id: 172348 ark: btv1b100530130f1\n",
      "[POST]    |annotation pour l'id: 172350 ark: btv1b10053438kf1\n",
      "[POST]    |annotation pour l'id: 172351 ark: btv1b100534480f1\n",
      "[POST]    |annotation pour l'id: 172388 ark: btv1b10101472kf1\n",
      "[POST]    |annotation pour l'id: 172390 ark: btv1b10102179xf1\n",
      "[POST]    |annotation pour l'id: 172391 ark: btv1b10102244tf1\n",
      "[POST]    |annotation pour l'id: 172392 ark: btv1b10102250ff1\n",
      "[POST]    |annotation pour l'id: 172393 ark: btv1b10102264nf1\n",
      "[POST]    |annotation pour l'id: 172394 ark: btv1b101032786f1\n",
      "[POST]    |annotation pour l'id: 172395 ark: btv1b101032801f1\n",
      "[POST]    |annotation pour l'id: 172396 ark: btv1b10103304wf1\n",
      "[POST]    |annotation pour l'id: 172397 ark: btv1b101033094f1\n",
      "[POST]    |annotation pour l'id: 172402 ark: btv1b101046174f1\n",
      "[POST]    |annotation pour l'id: 172403 ark: btv1b10104657sf1\n",
      "[POST]    |annotation pour l'id: 172404 ark: btv1b10104786zf1\n",
      "[POST]    |annotation pour l'id: 172405 ark: btv1b101048044f1\n",
      "[POST]    |annotation pour l'id: 172406 ark: btv1b10104832gf1\n",
      "[POST]    |annotation pour l'id: 172407 ark: btv1b10104857jf1\n",
      "[POST]    |annotation pour l'id: 172408 ark: btv1b10104885wf1\n",
      "[POST]    |annotation pour l'id: 172409 ark: btv1b101049445f1\n",
      "[POST]    |annotation pour l'id: 172410 ark: btv1b10104967bf1\n",
      "[POST]    |annotation pour l'id: 172411 ark: btv1b101050159f1\n",
      "[POST]    |annotation pour l'id: 172412 ark: btv1b10105036kf1\n",
      "[POST]    |annotation pour l'id: 172413 ark: btv1b101050443f1\n",
      "[POST]    |annotation pour l'id: 172474 ark: btv1b101069063f1\n",
      "[POST]    |annotation pour l'id: 172475 ark: btv1b10106948nf1\n",
      "[POST]    |annotation pour l'id: 172479 ark: btv1b101094406f1\n",
      "[POST]    |annotation pour l'id: 172480 ark: btv1b10109441nf1\n",
      "[POST]    |annotation pour l'id: 172481 ark: btv1b101094569f1\n",
      "[POST]    |annotation pour l'id: 172482 ark: btv1b10109475pf1\n",
      "[POST]    |annotation pour l'id: 172483 ark: btv1b101094781f1\n",
      "[POST]    |annotation pour l'id: 172484 ark: btv1b10109579vf1\n",
      "[POST]    |annotation pour l'id: 172485 ark: btv1b10109587cf1\n",
      "[POST]    |annotation pour l'id: 172486 ark: btv1b10109605jf1\n",
      "[POST]    |annotation pour l'id: 172487 ark: btv1b101096958f1\n",
      "[POST]    |annotation pour l'id: 172488 ark: btv1b101097088f1\n",
      "[POST]    |annotation pour l'id: 172489 ark: btv1b10109731cf1\n",
      "[POST]    |annotation pour l'id: 172490 ark: btv1b101097711f1\n",
      "[POST]    |annotation pour l'id: 172493 ark: btv1b102000688f1\n",
      "[POST]    |annotation pour l'id: 172494 ark: btv1b10200075bf1\n",
      "[POST]    |annotation pour l'id: 172496 ark: btv1b10209505ff1\n",
      "[POST]    |annotation pour l'id: 172497 ark: btv1b10209638df1\n",
      "[POST]    |annotation pour l'id: 172502 ark: btv1b10220990zf1\n",
      "[POST]    |annotation pour l'id: 172559 ark: btv1b10225104qf1\n",
      "[POST]    |annotation pour l'id: 172561 ark: btv1b102251680f1\n",
      "[POST]    |annotation pour l'id: 172562 ark: btv1b10225188tf1\n",
      "[POST]    |annotation pour l'id: 172563 ark: btv1b10225210qf1\n",
      "[POST]    |annotation pour l'id: 172584 ark: btv1b10318684xf1\n",
      "[POST]    |annotation pour l'id: 172585 ark: btv1b10318695sf1\n",
      "[POST]    |annotation pour l'id: 172586 ark: btv1b10318744nf1\n",
      "[POST]    |annotation pour l'id: 172587 ark: btv1b103187972f1\n",
      "[POST]    |annotation pour l'id: 172588 ark: btv1b103188318f1\n",
      "[POST]    |annotation pour l'id: 172589 ark: btv1b10318846xf1\n",
      "[POST]    |annotation pour l'id: 172593 ark: btv1b10319937pf1\n",
      "[POST]    |annotation pour l'id: 172594 ark: btv1b10319996qf1\n",
      "[POST]    |annotation pour l'id: 172595 ark: btv1b10320013vf1\n",
      "[POST]    |annotation pour l'id: 172596 ark: btv1b10320038xf1\n",
      "[POST]    |annotation pour l'id: 172597 ark: btv1b103200416f1\n",
      "[POST]    |annotation pour l'id: 172598 ark: btv1b103200579f1\n",
      "[POST]    |annotation pour l'id: 172599 ark: btv1b10320078kf1\n",
      "[POST]    |annotation pour l'id: 172600 ark: btv1b103200863f1\n",
      "[POST]    |annotation pour l'id: 172601 ark: btv1b103201065f1\n",
      "[POST]    |annotation pour l'id: 172602 ark: btv1b10320121rf1\n",
      "[POST]    |annotation pour l'id: 172603 ark: btv1b103201243f1\n",
      "[POST]    |annotation pour l'id: 172604 ark: btv1b10320137vf1\n",
      "[POST]    |annotation pour l'id: 172605 ark: btv1b10320182pf1\n",
      "[POST]    |annotation pour l'id: 172606 ark: btv1b10320193jf1\n",
      "[POST]    |annotation pour l'id: 172607 ark: btv1b103201940f1\n",
      "[POST]    |annotation pour l'id: 172608 ark: btv1b103202053f1\n",
      "[POST]    |annotation pour l'id: 172609 ark: btv1b10320222kf1\n",
      "[POST]    |annotation pour l'id: 172610 ark: btv1b10320236sf1\n",
      "[POST]    |annotation pour l'id: 172611 ark: btv1b10320247nf1\n",
      "[POST]    |annotation pour l'id: 172612 ark: btv1b10320265kf1\n",
      "[POST]    |annotation pour l'id: 172613 ark: btv1b10320267gf1\n",
      "[POST]    |annotation pour l'id: 172614 ark: btv1b10320324vf1\n",
      "[POST]    |annotation pour l'id: 172615 ark: btv1b10320326rf1\n",
      "[POST]    |annotation pour l'id: 172616 ark: btv1b103203560f1\n",
      "[POST]    |annotation pour l'id: 172617 ark: btv1b10320362mf1\n",
      "[POST]    |annotation pour l'id: 172618 ark: btv1b103203867f1\n",
      "[POST]    |annotation pour l'id: 172619 ark: btv1b10320392vf1\n",
      "[POST]    |annotation pour l'id: 172828 ark: btv1b10467732tf1\n",
      "[POST]    |annotation pour l'id: 172829 ark: btv1b10467732tf10\n",
      "[POST]    |annotation pour l'id: 172830 ark: btv1b10467732tf11\n",
      "[POST]    |annotation pour l'id: 172831 ark: btv1b10467732tf12\n",
      "[POST]    |annotation pour l'id: 172836 ark: btv1b10467732tf3\n",
      "[POST]    |annotation pour l'id: 172837 ark: btv1b10467732tf4\n",
      "[POST]    |annotation pour l'id: 172839 ark: btv1b10467732tf6\n",
      "[POST]    |annotation pour l'id: 172840 ark: btv1b10467732tf7\n",
      "[POST]    |annotation pour l'id: 172841 ark: btv1b10467732tf8\n",
      "[POST]    |annotation pour l'id: 174446 ark: btv1b10518303kf1\n",
      "[POST]    |annotation pour l'id: 174447 ark: btv1b10518303kf2\n",
      "[POST]    |annotation pour l'id: 174448 ark: btv1b10518936ff1\n",
      "[POST]    |annotation pour l'id: 174449 ark: btv1b10518936ff2\n",
      "[POST]    |annotation pour l'id: 176846 ark: btv1b105386430f1\n",
      "[POST]    |annotation pour l'id: 176847 ark: btv1b10538676kf1\n",
      "[POST]    |annotation pour l'id: 176848 ark: btv1b10538807wf1\n",
      "[POST]    |annotation pour l'id: 176849 ark: btv1b10538807wf2\n",
      "[POST]    |annotation pour l'id: 177601 ark: btv1b105680873f1\n",
      "[POST]    |annotation pour l'id: 177602 ark: btv1b105681058f1\n",
      "[POST]    |annotation pour l'id: 177603 ark: btv1b10568448df1\n",
      "[POST]    |annotation pour l'id: 177708 ark: btv1b10581105gf1\n",
      "[POST]    |annotation pour l'id: 177711 ark: btv1b106081655f1\n",
      "[POST]    |annotation pour l'id: 177712 ark: btv1b106081655f10\n",
      "[POST]    |annotation pour l'id: 177713 ark: btv1b106081655f11\n",
      "[POST]    |annotation pour l'id: 177714 ark: btv1b106081655f12\n",
      "[POST]    |annotation pour l'id: 177715 ark: btv1b106081655f13\n",
      "[POST]    |annotation pour l'id: 177716 ark: btv1b106081655f14\n",
      "[POST]    |annotation pour l'id: 177717 ark: btv1b106081655f15\n",
      "[POST]    |annotation pour l'id: 177718 ark: btv1b106081655f16\n",
      "[POST]    |annotation pour l'id: 177719 ark: btv1b106081655f17\n",
      "[POST]    |annotation pour l'id: 177720 ark: btv1b106081655f18\n",
      "[POST]    |annotation pour l'id: 177721 ark: btv1b106081655f19\n",
      "[POST]    |annotation pour l'id: 177722 ark: btv1b106081655f2\n",
      "[POST]    |annotation pour l'id: 177723 ark: btv1b106081655f20\n",
      "[POST]    |annotation pour l'id: 177724 ark: btv1b106081655f21\n",
      "[POST]    |annotation pour l'id: 177725 ark: btv1b106081655f22\n",
      "[POST]    |annotation pour l'id: 177726 ark: btv1b106081655f23\n",
      "[POST]    |annotation pour l'id: 177727 ark: btv1b106081655f24\n",
      "[POST]    |annotation pour l'id: 177728 ark: btv1b106081655f3\n",
      "[POST]    |annotation pour l'id: 177729 ark: btv1b106081655f4\n",
      "[POST]    |annotation pour l'id: 177730 ark: btv1b106081655f5\n",
      "[POST]    |annotation pour l'id: 177731 ark: btv1b106081655f6\n",
      "[POST]    |annotation pour l'id: 177732 ark: btv1b106081655f7\n",
      "[POST]    |annotation pour l'id: 177733 ark: btv1b106081655f8\n",
      "[POST]    |annotation pour l'id: 177734 ark: btv1b106081655f9\n",
      "[POST]    |annotation pour l'id: 177735 ark: btv1b10673375sf1\n",
      "[POST]    |annotation pour l'id: 177939 ark: btv1b5209994xf1\n",
      "[POST]    |annotation pour l'id: 177940 ark: btv1b5210216sf1\n",
      "[POST]    |annotation pour l'id: 177941 ark: btv1b5212174hf1\n",
      "[POST]    |annotation pour l'id: 177942 ark: btv1b52503816hf1\n",
      "[POST]    |annotation pour l'id: 177943 ark: btv1b52504441bf1\n",
      "[POST]    |annotation pour l'id: 177944 ark: btv1b525044509f1\n",
      "[POST]    |annotation pour l'id: 177945 ark: btv1b52505241xf1\n",
      "[POST]    |annotation pour l'id: 177946 ark: btv1b52505803ff1\n",
      "[POST]    |annotation pour l'id: 177949 ark: btv1b52506764bf1\n",
      "[POST]    |annotation pour l'id: 177950 ark: btv1b52506764bf2\n",
      "[POST]    |annotation pour l'id: 177951 ark: btv1b52506917cf1\n",
      "[POST]    |annotation pour l'id: 177952 ark: btv1b52507531bf1\n",
      "[POST]    |annotation pour l'id: 177953 ark: btv1b52507531bf10\n",
      "[POST]    |annotation pour l'id: 177954 ark: btv1b52507531bf11\n",
      "[POST]    |annotation pour l'id: 177955 ark: btv1b52507531bf12\n",
      "[POST]    |annotation pour l'id: 177956 ark: btv1b52507531bf13\n",
      "[POST]    |annotation pour l'id: 177957 ark: btv1b52507531bf14\n",
      "[POST]    |annotation pour l'id: 177958 ark: btv1b52507531bf15\n",
      "[POST]    |annotation pour l'id: 177959 ark: btv1b52507531bf16\n",
      "[POST]    |annotation pour l'id: 177960 ark: btv1b52507531bf17\n",
      "[POST]    |annotation pour l'id: 177961 ark: btv1b52507531bf18\n",
      "[POST]    |annotation pour l'id: 177962 ark: btv1b52507531bf2\n",
      "[POST]    |annotation pour l'id: 177963 ark: btv1b52507531bf3\n",
      "[POST]    |annotation pour l'id: 177964 ark: btv1b52507531bf4\n",
      "[POST]    |annotation pour l'id: 177965 ark: btv1b52507531bf5\n",
      "[POST]    |annotation pour l'id: 177966 ark: btv1b52507531bf6\n",
      "[POST]    |annotation pour l'id: 177967 ark: btv1b52507531bf7\n",
      "[POST]    |annotation pour l'id: 177968 ark: btv1b52507531bf8\n",
      "[POST]    |annotation pour l'id: 177969 ark: btv1b52507531bf9\n",
      "[POST]    |annotation pour l'id: 177972 ark: btv1b52510295cf1\n",
      "[POST]    |annotation pour l'id: 177973 ark: btv1b525107975f1\n",
      "[POST]    |annotation pour l'id: 177974 ark: btv1b525107975f2\n",
      "[POST]    |annotation pour l'id: 177975 ark: btv1b52511887gf1\n",
      "[POST]    |annotation pour l'id: 177976 ark: btv1b52511887gf2\n",
      "[POST]    |annotation pour l'id: 177977 ark: btv1b525123171f1\n",
      "[POST]    |annotation pour l'id: 177982 ark: btv1b525170951f1\n",
      "[POST]    |annotation pour l'id: 177983 ark: btv1b525170951f2\n",
      "[POST]    |annotation pour l'id: 177984 ark: btv1b52517097xf1\n",
      "[POST]    |annotation pour l'id: 177985 ark: btv1b52517097xf2\n",
      "[POST]    |annotation pour l'id: 177987 ark: btv1b53000373kf1\n",
      "[POST]    |annotation pour l'id: 177988 ark: btv1b53000378tf1\n",
      "[POST]    |annotation pour l'id: 177989 ark: btv1b53000441tf1\n",
      "[POST]    |annotation pour l'id: 177990 ark: btv1b53000447hf1\n",
      "[POST]    |annotation pour l'id: 177991 ark: btv1b53000457xf1\n",
      "[POST]    |annotation pour l'id: 177992 ark: btv1b53000558rf1\n",
      "[POST]    |annotation pour l'id: 177993 ark: btv1b53000623nf1\n",
      "[POST]    |annotation pour l'id: 177994 ark: btv1b53000639rf1\n",
      "[POST]    |annotation pour l'id: 177995 ark: btv1b53000659kf1\n",
      "[POST]    |annotation pour l'id: 177996 ark: btv1b530006690f1\n",
      "[POST]    |annotation pour l'id: 177997 ark: btv1b530006940f1\n",
      "[POST]    |annotation pour l'id: 177998 ark: btv1b530006997f1\n",
      "[POST]    |annotation pour l'id: 177999 ark: btv1b53000715hf1\n",
      "[POST]    |annotation pour l'id: 178000 ark: btv1b53000747nf1\n",
      "[POST]    |annotation pour l'id: 178001 ark: btv1b53000752tf1\n",
      "[POST]    |annotation pour l'id: 178002 ark: btv1b53002725mf1\n",
      "[POST]    |annotation pour l'id: 178003 ark: btv1b53002748sf1\n",
      "[POST]    |annotation pour l'id: 178005 ark: btv1b530027819f1\n",
      "[POST]    |annotation pour l'id: 178006 ark: btv1b530027925f1\n",
      "[POST]    |annotation pour l'id: 178007 ark: btv1b53002810bf1\n",
      "[POST]    |annotation pour l'id: 178008 ark: btv1b530028680f1\n",
      "[POST]    |annotation pour l'id: 178009 ark: btv1b530029278f1\n",
      "[POST]    |annotation pour l'id: 178010 ark: btv1b53002932ff1\n",
      "[POST]    |annotation pour l'id: 178011 ark: btv1b53002950cf1\n",
      "[POST]    |annotation pour l'id: 178012 ark: btv1b53002998mf1\n",
      "[POST]    |annotation pour l'id: 178013 ark: btv1b53003007cf1\n",
      "[POST]    |annotation pour l'id: 178014 ark: btv1b53003026rf1\n",
      "[POST]    |annotation pour l'id: 178015 ark: btv1b530030293f1\n",
      "[POST]    |annotation pour l'id: 178016 ark: btv1b530030382f1\n",
      "[POST]    |annotation pour l'id: 178017 ark: btv1b530030632f1\n",
      "[POST]    |annotation pour l'id: 178018 ark: btv1b53003082ff1\n",
      "[POST]    |annotation pour l'id: 178019 ark: btv1b530030884f1\n",
      "[POST]    |annotation pour l'id: 178020 ark: btv1b530031012f1\n",
      "[POST]    |annotation pour l'id: 178021 ark: btv1b53003121wf1\n",
      "[POST]    |annotation pour l'id: 178022 ark: btv1b530032091f1\n",
      "[POST]    |annotation pour l'id: 178023 ark: btv1b53003217jf1\n",
      "[POST]    |annotation pour l'id: 178024 ark: btv1b53003220tf1\n",
      "[POST]    |annotation pour l'id: 178025 ark: btv1b53003247sf1\n",
      "[POST]    |annotation pour l'id: 178026 ark: btv1b53003279xf1\n",
      "[POST]    |annotation pour l'id: 178027 ark: btv1b53003287ff1\n",
      "[POST]    |annotation pour l'id: 178028 ark: btv1b53003317xf1\n",
      "[POST]    |annotation pour l'id: 178029 ark: btv1b53003326wf1\n",
      "[POST]    |annotation pour l'id: 178030 ark: btv1b530033312f1\n",
      "[POST]    |annotation pour l'id: 178031 ark: btv1b53003375hf1\n",
      "[POST]    |annotation pour l'id: 178032 ark: btv1b53003382kf1\n",
      "[POST]    |annotation pour l'id: 178033 ark: btv1b530034196f1\n",
      "[POST]    |annotation pour l'id: 178034 ark: btv1b53003436pf1\n",
      "[POST]    |annotation pour l'id: 178035 ark: btv1b53003450tf1\n",
      "[POST]    |annotation pour l'id: 178036 ark: btv1b530034535f1\n",
      "[POST]    |annotation pour l'id: 178037 ark: btv1b53003467cf1\n",
      "[POST]    |annotation pour l'id: 178038 ark: btv1b530034893f1\n",
      "[POST]    |annotation pour l'id: 178039 ark: btv1b53003535mf1\n",
      "[POST]    |annotation pour l'id: 178040 ark: btv1b53003562hf1\n",
      "[POST]    |annotation pour l'id: 178041 ark: btv1b53003574tf1\n",
      "[POST]    |annotation pour l'id: 178042 ark: btv1b53003590vf1\n",
      "[POST]    |annotation pour l'id: 178043 ark: btv1b53003602df1\n",
      "[POST]    |annotation pour l'id: 178044 ark: btv1b53003623pf1\n",
      "[POST]    |annotation pour l'id: 178045 ark: btv1b530036600f1\n",
      "[POST]    |annotation pour l'id: 178046 ark: btv1b530037289f1\n",
      "[POST]    |annotation pour l'id: 178047 ark: btv1b530037556f1\n",
      "[POST]    |annotation pour l'id: 178048 ark: btv1b53003770sf1\n",
      "[POST]    |annotation pour l'id: 178049 ark: btv1b53003793zf1\n",
      "[POST]    |annotation pour l'id: 178050 ark: btv1b53003815xf1\n",
      "[POST]    |annotation pour l'id: 178051 ark: btv1b53003830hf1\n",
      "[POST]    |annotation pour l'id: 178052 ark: btv1b53003833vf1\n",
      "[POST]    |annotation pour l'id: 178053 ark: btv1b53003898kf1\n",
      "[POST]    |annotation pour l'id: 178054 ark: btv1b530039248f1\n",
      "[POST]    |annotation pour l'id: 178055 ark: btv1b53003930wf1\n",
      "[POST]    |annotation pour l'id: 178056 ark: btv1b53003963gf1\n",
      "[POST]    |annotation pour l'id: 178057 ark: btv1b53004014sf1\n",
      "[POST]    |annotation pour l'id: 178058 ark: btv1b530040157f1\n",
      "[POST]    |annotation pour l'id: 178059 ark: btv1b530040424f1\n",
      "[POST]    |annotation pour l'id: 178060 ark: btv1b530040602f1\n",
      "[POST]    |annotation pour l'id: 178061 ark: btv1b53004129tf1\n",
      "[POST]    |annotation pour l'id: 178062 ark: btv1b530041306f1\n",
      "[POST]    |annotation pour l'id: 178063 ark: btv1b53004183mf1\n",
      "[POST]    |annotation pour l'id: 178064 ark: btv1b530042222f1\n",
      "[POST]    |annotation pour l'id: 178065 ark: btv1b53004228rf1\n",
      "[POST]    |annotation pour l'id: 178066 ark: btv1b53004246pf1\n",
      "[POST]    |annotation pour l'id: 178067 ark: btv1b53004293df1\n",
      "[POST]    |annotation pour l'id: 178068 ark: btv1b53004325sf1\n",
      "[POST]    |annotation pour l'id: 178069 ark: btv1b530043373f1\n",
      "[POST]    |annotation pour l'id: 178070 ark: btv1b530043390f1\n",
      "[POST]    |annotation pour l'id: 178071 ark: btv1b53004357xf1\n",
      "[POST]    |annotation pour l'id: 178072 ark: btv1b53004358cf1\n",
      "[POST]    |annotation pour l'id: 178073 ark: btv1b53004363jf1\n",
      "[POST]    |annotation pour l'id: 178074 ark: btv1b530043875f1\n",
      "[POST]    |annotation pour l'id: 178075 ark: btv1b53004393sf1\n",
      "[POST]    |annotation pour l'id: 178076 ark: btv1b53004446ff1\n",
      "[POST]    |annotation pour l'id: 178077 ark: btv1b53004464cf1\n",
      "[POST]    |annotation pour l'id: 178078 ark: btv1b530045209f1\n",
      "[POST]    |annotation pour l'id: 178079 ark: btv1b53004552ff1\n",
      "[POST]    |annotation pour l'id: 178080 ark: btv1b53004589tf1\n",
      "[POST]    |annotation pour l'id: 178081 ark: btv1b53004608ff1\n",
      "[POST]    |annotation pour l'id: 178082 ark: btv1b530046142f1\n",
      "[POST]    |annotation pour l'id: 178083 ark: btv1b530046199f1\n",
      "[POST]    |annotation pour l'id: 178084 ark: btv1b530046716f1\n",
      "[POST]    |annotation pour l'id: 178085 ark: btv1b53004796nf1\n",
      "[POST]    |annotation pour l'id: 178086 ark: btv1b53004830vf1\n",
      "[POST]    |annotation pour l'id: 178087 ark: btv1b530048319f1\n",
      "[POST]    |annotation pour l'id: 178088 ark: btv1b53004832rf1\n",
      "[POST]    |annotation pour l'id: 178089 ark: btv1b530048370f1\n",
      "[POST]    |annotation pour l'id: 178090 ark: btv1b53004839wf1\n",
      "[POST]    |annotation pour l'id: 178091 ark: btv1b53004845hf1\n",
      "[POST]    |annotation pour l'id: 178092 ark: btv1b53004864wf1\n",
      "[POST]    |annotation pour l'id: 178093 ark: btv1b53004928df1\n",
      "[POST]    |annotation pour l'id: 178094 ark: btv1b530049324f1\n",
      "[POST]    |annotation pour l'id: 178095 ark: btv1b53004961xf1\n",
      "[POST]    |annotation pour l'id: 178096 ark: btv1b530049915f1\n",
      "[POST]    |annotation pour l'id: 178097 ark: btv1b530050735f1\n",
      "[POST]    |annotation pour l'id: 178098 ark: btv1b53005119rf1\n",
      "[POST]    |annotation pour l'id: 178099 ark: btv1b53005150cf1\n",
      "[POST]    |annotation pour l'id: 178143 ark: btv1b53015708gf1\n",
      "[POST]    |annotation pour l'id: 178144 ark: btv1b53015783jf1\n",
      "[POST]    |annotation pour l'id: 178145 ark: btv1b53015812kf1\n",
      "[POST]    |annotation pour l'id: 178146 ark: btv1b530158220f1\n",
      "[POST]    |annotation pour l'id: 178147 ark: btv1b53015898kf1\n",
      "[POST]    |annotation pour l'id: 178231 ark: btv1b53019439df1\n",
      "[POST]    |annotation pour l'id: 178232 ark: btv1b53019478mf1\n",
      "[POST]    |annotation pour l'id: 178233 ark: btv1b530195333f1\n",
      "[POST]    |annotation pour l'id: 178234 ark: btv1b53019600wf1\n",
      "[POST]    |annotation pour l'id: 178238 ark: btv1b530242162f1\n",
      "[POST]    |annotation pour l'id: 178239 ark: btv1b53024231nf1\n",
      "[POST]    |annotation pour l'id: 178240 ark: btv1b53024240mf1\n",
      "[POST]    |annotation pour l'id: 178600 ark: btv1b530744868f1\n",
      "[POST]    |annotation pour l'id: 178601 ark: btv1b530745354f1\n",
      "[POST]    |annotation pour l'id: 178602 ark: btv1b53074539xf1\n",
      "[POST]    |annotation pour l'id: 178603 ark: btv1b530745532f1\n",
      "[POST]    |annotation pour l'id: 178604 ark: btv1b53074556df1\n",
      "[POST]    |annotation pour l'id: 178605 ark: btv1b53074581df1\n",
      "[POST]    |annotation pour l'id: 178606 ark: btv1b53074590cf1\n",
      "[POST]    |annotation pour l'id: 178607 ark: btv1b530745928f1\n",
      "[POST]    |annotation pour l'id: 178608 ark: btv1b530746092f1\n",
      "[POST]    |annotation pour l'id: 178609 ark: btv1b53074619gf1\n",
      "[POST]    |annotation pour l'id: 178611 ark: btv1b53074640pf1\n",
      "[POST]    |annotation pour l'id: 178613 ark: btv1b53074701vf1\n",
      "[POST]    |annotation pour l'id: 179530 ark: btv1b53100093jf1\n",
      "[POST]    |annotation pour l'id: 179618 ark: btv1b53110288ff1\n",
      "[POST]    |annotation pour l'id: 179825 ark: btv1b53127521pf1\n",
      "[POST]    |annotation pour l'id: 179826 ark: btv1b53127523kf1\n",
      "[POST]    |annotation pour l'id: 179827 ark: btv1b531275815f1\n",
      "[POST]    |annotation pour l'id: 179828 ark: btv1b53127589rf1\n",
      "[POST]    |annotation pour l'id: 179829 ark: btv1b53127593gf1\n",
      "[POST]    |annotation pour l'id: 179830 ark: btv1b531276017f1\n",
      "[POST]    |annotation pour l'id: 179831 ark: btv1b53127602pf1\n",
      "[POST]    |annotation pour l'id: 179832 ark: btv1b53127609tf1\n",
      "[POST]    |annotation pour l'id: 179833 ark: btv1b53127611nf1\n",
      "[POST]    |annotation pour l'id: 179834 ark: btv1b53127632xf1\n",
      "[POST]    |annotation pour l'id: 179835 ark: btv1b531276966f1\n",
      "[POST]    |annotation pour l'id: 179836 ark: btv1b53127766bf1\n",
      "[POST]    |annotation pour l'id: 179837 ark: btv1b53127846wf1\n",
      "[POST]    |annotation pour l'id: 180042 ark: btv1b531455618f1\n",
      "[POST]    |annotation pour l'id: 180043 ark: btv1b531455724f1\n",
      "[POST]    |annotation pour l'id: 180044 ark: btv1b531455887f1\n",
      "[POST]    |annotation pour l'id: 180045 ark: btv1b53145618qf1\n",
      "[POST]    |annotation pour l'id: 180046 ark: btv1b53145618qf2\n",
      "[POST]    |annotation pour l'id: 180047 ark: btv1b53145666wf1\n",
      "[POST]    |annotation pour l'id: 180048 ark: btv1b53145712df1\n",
      "[POST]    |annotation pour l'id: 180049 ark: btv1b53145717nf1\n",
      "[POST]    |annotation pour l'id: 180051 ark: btv1b53145754zf1\n",
      "[POST]    |annotation pour l'id: 180196 ark: btv1b53155421jf1\n",
      "[POST]    |annotation pour l'id: 180197 ark: btv1b53155421jf2\n",
      "[POST]    |annotation pour l'id: 180721 ark: btv1b53159046gf1\n",
      "[POST]    |annotation pour l'id: 180722 ark: btv1b53159049tf1\n",
      "[POST]    |annotation pour l'id: 180723 ark: btv1b53159063zf1\n",
      "[POST]    |annotation pour l'id: 180724 ark: btv1b53159089gf1\n",
      "[POST]    |annotation pour l'id: 180725 ark: btv1b53159204pf1\n",
      "[POST]    |annotation pour l'id: 180726 ark: btv1b53159251df1\n",
      "[POST]    |annotation pour l'id: 180864 ark: btv1b53167784hf1\n",
      "[POST]    |annotation pour l'id: 180866 ark: btv1b53167854nf1\n",
      "[POST]    |annotation pour l'id: 180867 ark: btv1b53167866zf1\n",
      "[POST]    |annotation pour l'id: 180868 ark: btv1b53167883ff1\n",
      "[POST]    |annotation pour l'id: 180869 ark: btv1b53167905df1\n",
      "[POST]    |annotation pour l'id: 181031 ark: btv1b53179018rf1\n",
      "[POST]    |annotation pour l'id: 181032 ark: btv1b53179041vf1\n",
      "[POST]    |annotation pour l'id: 181033 ark: btv1b531790713f1\n",
      "[POST]    |annotation pour l'id: 181034 ark: btv1b531790730f1\n",
      "[POST]    |annotation pour l'id: 181035 ark: btv1b53179120zf1\n",
      "[POST]    |annotation pour l'id: 181036 ark: btv1b53179122vf1\n",
      "[POST]    |annotation pour l'id: 181037 ark: btv1b53179167rf1\n",
      "[POST]    |annotation pour l'id: 181153 ark: btv1b53185266mf1\n",
      "[POST]    |annotation pour l'id: 181154 ark: btv1b53185384xf1\n",
      "[POST]    |annotation pour l'id: 181155 ark: btv1b53185388qf1\n",
      "[POST]    |annotation pour l'id: 181156 ark: btv1b53185406wf1\n",
      "[POST]    |annotation pour l'id: 181170 ark: btv1b53187278mf1\n",
      "[POST]    |annotation pour l'id: 181171 ark: btv1b53187289gf1\n",
      "[POST]    |annotation pour l'id: 181172 ark: btv1b531873316f1\n",
      "[POST]    |annotation pour l'id: 181173 ark: btv1b531873691f1\n",
      "[POST]    |annotation pour l'id: 181174 ark: btv1b531873691f2\n",
      "[POST]    |annotation pour l'id: 181175 ark: btv1b531874467f1\n",
      "[POST]    |annotation pour l'id: 181188 ark: btv1b53188548vf1\n",
      "[POST]    |annotation pour l'id: 181195 ark: btv1b531887799f1\n",
      "[POST]    |annotation pour l'id: 181244 ark: btv1b53191694df1\n",
      "[POST]    |annotation pour l'id: 181250 ark: btv1b531919058f1\n",
      "[POST]    |annotation pour l'id: 181251 ark: btv1b53191924nf1\n",
      "[POST]    |annotation pour l'id: 181252 ark: btv1b53191938vf1\n",
      "[POST]    |annotation pour l'id: 181253 ark: btv1b531919755f1\n",
      "[POST]    |annotation pour l'id: 181254 ark: btv1b53191983pf1\n",
      "[POST]    |annotation pour l'id: 181255 ark: btv1b531919844f1\n",
      "[POST]    |annotation pour l'id: 181256 ark: btv1b53191997wf1\n",
      "[POST]    |annotation pour l'id: 181257 ark: btv1b531920090f1\n",
      "[POST]    |annotation pour l'id: 181258 ark: btv1b53192037bf1\n",
      "[POST]    |annotation pour l'id: 181259 ark: btv1b53192086zf1\n",
      "[POST]    |annotation pour l'id: 181260 ark: btv1b53192096cf1\n",
      "[POST]    |annotation pour l'id: 181261 ark: btv1b53192096cf2\n",
      "[POST]    |annotation pour l'id: 181359 ark: btv1b53198953vf1\n",
      "[POST]    |annotation pour l'id: 181360 ark: btv1b53198966mf1\n",
      "[POST]    |annotation pour l'id: 181361 ark: btv1b53199030mf1\n",
      "[POST]    |annotation pour l'id: 181362 ark: btv1b531990401f1\n",
      "[POST]    |annotation pour l'id: 181363 ark: btv1b53199041gf1\n",
      "[POST]    |annotation pour l'id: 181364 ark: btv1b53199050ff1\n",
      "[POST]    |annotation pour l'id: 181365 ark: btv1b531990814f1\n",
      "[POST]    |annotation pour l'id: 181366 ark: btv1b531991105f1\n",
      "[POST]    |annotation pour l'id: 181367 ark: btv1b53199115df1\n",
      "[POST]    |annotation pour l'id: 181368 ark: btv1b531991179f1\n",
      "[POST]    |annotation pour l'id: 181670 ark: btv1b53205500cf1\n",
      "[POST]    |annotation pour l'id: 181671 ark: btv1b53205517xf1\n",
      "[POST]    |annotation pour l'id: 181672 ark: btv1b532055240f1\n",
      "[POST]    |annotation pour l'id: 181673 ark: btv1b532055401f1\n",
      "[POST]    |annotation pour l'id: 181674 ark: btv1b532055401f2\n",
      "[POST]    |annotation pour l'id: 181675 ark: btv1b532055401f3\n",
      "[POST]    |annotation pour l'id: 181676 ark: btv1b53205604jf1\n",
      "[POST]    |annotation pour l'id: 181677 ark: btv1b532056050f1\n",
      "[POST]    |annotation pour l'id: 181678 ark: btv1b53205607wf1\n",
      "[POST]    |annotation pour l'id: 181679 ark: btv1b53205611mf1\n",
      "[POST]    |annotation pour l'id: 181680 ark: btv1b53205616vf1\n",
      "[POST]    |annotation pour l'id: 181702 ark: btv1b532069382f1\n",
      "[POST]    |annotation pour l'id: 181794 ark: btv1b53211068gf1\n",
      "[POST]    |annotation pour l'id: 181828 ark: btv1b532126827f1\n",
      "[POST]    |annotation pour l'id: 181829 ark: btv1b53212689cf1\n",
      "[POST]    |annotation pour l'id: 181830 ark: btv1b53212703rf1\n",
      "[POST]    |annotation pour l'id: 181831 ark: btv1b53212725gf1\n",
      "[POST]    |annotation pour l'id: 181832 ark: btv1b53212725gf2\n",
      "[POST]    |annotation pour l'id: 181833 ark: btv1b532127387f1\n",
      "[POST]    |annotation pour l'id: 181834 ark: btv1b532127548f1\n",
      "[POST]    |annotation pour l'id: 181835 ark: btv1b532127726f1\n",
      "[POST]    |annotation pour l'id: 181836 ark: btv1b532127904f1\n",
      "[POST]    |annotation pour l'id: 181837 ark: btv1b532127904f2\n",
      "[POST]    |annotation pour l'id: 182342 ark: btv1b532214365f1\n",
      "[POST]    |annotation pour l'id: 182343 ark: btv1b53221437mf1\n",
      "[POST]    |annotation pour l'id: 182344 ark: btv1b53221469rf1\n",
      "[POST]    |annotation pour l'id: 182345 ark: btv1b532214990f1\n",
      "[POST]    |annotation pour l'id: 182346 ark: btv1b53221545hf1\n",
      "[POST]    |annotation pour l'id: 182347 ark: btv1b532215838f1\n",
      "[POST]    |annotation pour l'id: 182348 ark: btv1b53221606pf1\n",
      "[POST]    |annotation pour l'id: 182350 ark: btv1b532216235f1\n",
      "[POST]    |annotation pour l'id: 182351 ark: btv1b53221640nf1\n",
      "[POST]    |annotation pour l'id: 182454 ark: btv1b53226844xf1\n",
      "[POST]    |annotation pour l'id: 182482 ark: btv1b53229909xf1\n",
      "[POST]    |annotation pour l'id: 182483 ark: btv1b53229918wf1\n",
      "[POST]    |annotation pour l'id: 182484 ark: btv1b53229936tf1\n",
      "[POST]    |annotation pour l'id: 182485 ark: btv1b53229950zf1\n",
      "[POST]    |annotation pour l'id: 182486 ark: btv1b532299573f1\n",
      "[POST]    |annotation pour l'id: 182487 ark: btv1b53229963qf1\n",
      "[POST]    |annotation pour l'id: 182488 ark: btv1b53229967hf1\n",
      "[POST]    |annotation pour l'id: 182538 ark: btv1b532335264f1\n",
      "[POST]    |annotation pour l'id: 182571 ark: btv1b532356444f1\n",
      "[POST]    |annotation pour l'id: 182572 ark: btv1b53235652nf1\n",
      "[POST]    |annotation pour l'id: 182573 ark: btv1b53235652nf2\n",
      "[POST]    |annotation pour l'id: 182574 ark: btv1b53235652nf3\n",
      "[POST]    |annotation pour l'id: 182575 ark: btv1b53235657wf1\n",
      "[POST]    |annotation pour l'id: 182576 ark: btv1b532356874f1\n",
      "[POST]    |annotation pour l'id: 182577 ark: btv1b53235737ff1\n",
      "[POST]    |annotation pour l'id: 182974 ark: btv1b6909411tf1\n",
      "[POST]    |annotation pour l'id: 182975 ark: btv1b69094587f1\n",
      "[POST]    |annotation pour l'id: 182976 ark: btv1b6909530hf1\n",
      "[POST]    |annotation pour l'id: 182977 ark: btv1b6909537df1\n",
      "[POST]    |annotation pour l'id: 182978 ark: btv1b6909625jf1\n",
      "[POST]    |annotation pour l'id: 182979 ark: btv1b69096459f1\n",
      "[POST]    |annotation pour l'id: 182980 ark: btv1b69096956f1\n",
      "[POST]    |annotation pour l'id: 182981 ark: btv1b6909708cf1\n",
      "[POST]    |annotation pour l'id: 182982 ark: btv1b6909847tf1\n",
      "[POST]    |annotation pour l'id: 183577 ark: btv1b9003085bf1\n",
      "[POST]    |annotation pour l'id: 183578 ark: btv1b9003107gf1\n",
      "[POST]    |annotation pour l'id: 183579 ark: btv1b9003191df1\n",
      "[POST]    |annotation pour l'id: 183580 ark: btv1b9003310nf1\n",
      "[POST]    |annotation pour l'id: 183581 ark: btv1b9003313wf1\n",
      "[POST]    |annotation pour l'id: 183582 ark: btv1b9003371bf1\n",
      "[POST]    |annotation pour l'id: 183583 ark: btv1b9003455kf1\n",
      "[POST]    |annotation pour l'id: 183584 ark: btv1b9003500zf1\n",
      "[POST]    |annotation pour l'id: 183585 ark: btv1b90035266f1\n",
      "[POST]    |annotation pour l'id: 183586 ark: btv1b90035281f1\n",
      "[POST]    |annotation pour l'id: 183587 ark: btv1b9003539tf1\n",
      "[POST]    |annotation pour l'id: 183588 ark: btv1b90035993f1\n",
      "[POST]    |annotation pour l'id: 183589 ark: btv1b9003656pf1\n",
      "[POST]    |annotation pour l'id: 183590 ark: btv1b9003760xf1\n",
      "[POST]    |annotation pour l'id: 183591 ark: btv1b9003801df1\n",
      "[POST]    |annotation pour l'id: 183592 ark: btv1b90038608f1\n",
      "[POST]    |annotation pour l'id: 183593 ark: btv1b9003901rf1\n",
      "[POST]    |annotation pour l'id: 183594 ark: btv1b90040380f1\n",
      "[POST]    |annotation pour l'id: 183595 ark: btv1b9004053pf1\n",
      "[POST]    |annotation pour l'id: 183596 ark: btv1b90040810f1\n",
      "[POST]    |annotation pour l'id: 183597 ark: btv1b9004104jf1\n",
      "[POST]    |annotation pour l'id: 183598 ark: btv1b9004143nf1\n",
      "[POST]    |annotation pour l'id: 183599 ark: btv1b90041568f1\n",
      "[POST]    |annotation pour l'id: 183600 ark: btv1b90042660f1\n",
      "[POST]    |annotation pour l'id: 183601 ark: btv1b9004284xf1\n",
      "[POST]    |annotation pour l'id: 183602 ark: btv1b9004337mf1\n",
      "[POST]    |annotation pour l'id: 183603 ark: btv1b9004344rf1\n",
      "[POST]    |annotation pour l'id: 183604 ark: btv1b9004358sf1\n",
      "[POST]    |annotation pour l'id: 183605 ark: btv1b90043685f1\n",
      "[POST]    |annotation pour l'id: 183606 ark: btv1b90043848f1\n",
      "[POST]    |annotation pour l'id: 183607 ark: btv1b9004404kf1\n",
      "[POST]    |annotation pour l'id: 183608 ark: btv1b9004441vf1\n",
      "[POST]    |annotation pour l'id: 183609 ark: btv1b9004469xf1\n",
      "[POST]    |annotation pour l'id: 183610 ark: btv1b90045431f1\n",
      "[POST]    |annotation pour l'id: 183611 ark: btv1b9004605pf1\n",
      "[POST]    |annotation pour l'id: 183612 ark: btv1b9004632kf1\n",
      "[POST]    |annotation pour l'id: 183613 ark: btv1b9004664jf1\n",
      "[POST]    |annotation pour l'id: 183614 ark: btv1b9004682gf1\n",
      "[POST]    |annotation pour l'id: 183615 ark: btv1b9004710bf1\n",
      "[POST]    |annotation pour l'id: 183616 ark: btv1b9004715df1\n",
      "[POST]    |annotation pour l'id: 183617 ark: btv1b90047192f1\n",
      "[POST]    |annotation pour l'id: 183618 ark: btv1b90047214f1\n",
      "[POST]    |annotation pour l'id: 183619 ark: btv1b90048202f1\n",
      "[POST]    |annotation pour l'id: 183620 ark: btv1b9004836xf1\n",
      "[POST]    |annotation pour l'id: 183621 ark: btv1b9004849jf1\n",
      "[POST]    |annotation pour l'id: 183622 ark: btv1b90048647f1\n",
      "[POST]    |annotation pour l'id: 183623 ark: btv1b9004883kf1\n",
      "[POST]    |annotation pour l'id: 183624 ark: btv1b9004895sf1\n",
      "[POST]    |annotation pour l'id: 183625 ark: btv1b90050159f1\n",
      "[POST]    |annotation pour l'id: 183626 ark: btv1b9005032tf1\n",
      "[POST]    |annotation pour l'id: 183627 ark: btv1b9005062zf1\n",
      "[POST]    |annotation pour l'id: 183628 ark: btv1b9005205mf1\n",
      "[POST]    |annotation pour l'id: 183629 ark: btv1b90052365f1\n",
      "[POST]    |annotation pour l'id: 183630 ark: btv1b9005267qf1\n",
      "[POST]    |annotation pour l'id: 183631 ark: btv1b9005541hf1\n",
      "[POST]    |annotation pour l'id: 183632 ark: btv1b9005602rf1\n",
      "[POST]    |annotation pour l'id: 183633 ark: btv1b9005695df1\n",
      "[POST]    |annotation pour l'id: 183634 ark: btv1b90057201f1\n",
      "[POST]    |annotation pour l'id: 183635 ark: btv1b9005848ff1\n",
      "[POST]    |annotation pour l'id: 183636 ark: btv1b90058953f1\n",
      "[POST]    |annotation pour l'id: 183637 ark: btv1b9005987wf1\n",
      "[POST]    |annotation pour l'id: 183638 ark: btv1b90060324f1\n",
      "[POST]    |annotation pour l'id: 183639 ark: btv1b90060413f1\n",
      "[POST]    |annotation pour l'id: 183640 ark: btv1b90076847f1\n",
      "[POST]    |annotation pour l'id: 183641 ark: btv1b9007687gf1\n",
      "[POST]    |annotation pour l'id: 183642 ark: btv1b9007692sf1\n",
      "[POST]    |annotation pour l'id: 183643 ark: btv1b9007801nf1\n",
      "[POST]    |annotation pour l'id: 183644 ark: btv1b9007955jf1\n",
      "[POST]    |annotation pour l'id: 183645 ark: btv1b9007956zf1\n",
      "[POST]    |annotation pour l'id: 183646 ark: btv1b90079774f1\n",
      "[POST]    |annotation pour l'id: 183647 ark: btv1b9008028vf1\n",
      "[POST]    |annotation pour l'id: 183648 ark: btv1b9008082nf1\n",
      "[POST]    |annotation pour l'id: 183649 ark: btv1b9008115kf1\n",
      "[POST]    |annotation pour l'id: 183650 ark: btv1b90081553f1\n",
      "[POST]    |annotation pour l'id: 183651 ark: btv1b90082029f1\n",
      "[POST]    |annotation pour l'id: 183652 ark: btv1b90082615f1\n",
      "[POST]    |annotation pour l'id: 183653 ark: btv1b9008297sf1\n",
      "[POST]    |annotation pour l'id: 183654 ark: btv1b9008330zf1\n",
      "[POST]    |annotation pour l'id: 183655 ark: btv1b9008340bf1\n",
      "[POST]    |annotation pour l'id: 183656 ark: btv1b9008413sf1\n",
      "[POST]    |annotation pour l'id: 183657 ark: btv1b9008489xf1\n",
      "[POST]    |annotation pour l'id: 183658 ark: btv1b9008507df1\n",
      "[POST]    |annotation pour l'id: 183659 ark: btv1b9008517sf1\n",
      "[POST]    |annotation pour l'id: 183662 ark: btv1b9008567pf1\n",
      "[POST]    |annotation pour l'id: 183664 ark: btv1b9008675kf1\n",
      "[POST]    |annotation pour l'id: 183665 ark: btv1b9008715nf1\n",
      "[POST]    |annotation pour l'id: 183666 ark: btv1b9008774hf1\n",
      "[POST]    |annotation pour l'id: 183667 ark: btv1b90088276f1\n",
      "[POST]    |annotation pour l'id: 183668 ark: btv1b90090641f1\n",
      "[POST]    |annotation pour l'id: 183670 ark: btv1b9009126pf1\n",
      "[POST]    |annotation pour l'id: 183671 ark: btv1b90091399f1\n",
      "[POST]    |annotation pour l'id: 183672 ark: btv1b9009164cf1\n",
      "[POST]    |annotation pour l'id: 183673 ark: btv1b9009187cf1\n",
      "[POST]    |annotation pour l'id: 183674 ark: btv1b90092031f1\n",
      "[POST]    |annotation pour l'id: 183675 ark: btv1b90092565f1\n",
      "[POST]    |annotation pour l'id: 183676 ark: btv1b90092817f1\n",
      "[POST]    |annotation pour l'id: 183679 ark: btv1b90104852f1\n",
      "[POST]    |annotation pour l'id: 183680 ark: btv1b9010634ff1\n",
      "[POST]    |annotation pour l'id: 183681 ark: btv1b9010648gf1\n",
      "[POST]    |annotation pour l'id: 183682 ark: btv1b9010860mf1\n",
      "[POST]    |annotation pour l'id: 183683 ark: btv1b90110605f1\n",
      "[POST]    |annotation pour l'id: 183684 ark: btv1b9011170wf1\n",
      "[POST]    |annotation pour l'id: 183686 ark: btv1b9011334qf1\n",
      "[POST]    |annotation pour l'id: 183687 ark: btv1b9011343pf1\n",
      "[POST]    |annotation pour l'id: 183688 ark: btv1b90114750f1\n",
      "[POST]    |annotation pour l'id: 183689 ark: btv1b9011696vf1\n",
      "[POST]    |annotation pour l'id: 183691 ark: btv1b9011808zf1\n",
      "[POST]    |annotation pour l'id: 183692 ark: btv1b90118316f1\n",
      "[POST]    |annotation pour l'id: 183693 ark: btv1b90119141f1\n",
      "[POST]    |annotation pour l'id: 183694 ark: btv1b9011968kf1\n",
      "[POST]    |annotation pour l'id: 183695 ark: btv1b90119764f1\n",
      "[POST]    |annotation pour l'id: 183696 ark: btv1b9012108vf1\n",
      "[POST]    |annotation pour l'id: 183698 ark: btv1b90123719f1\n",
      "[POST]    |annotation pour l'id: 183699 ark: btv1b90125109f1\n",
      "[POST]    |annotation pour l'id: 183700 ark: btv1b9012552nf1\n",
      "[POST]    |annotation pour l'id: 183701 ark: btv1b9012647pf1\n",
      "[POST]    |annotation pour l'id: 183702 ark: btv1b9012739gf1\n",
      "[POST]    |annotation pour l'id: 183703 ark: btv1b9012753rf1\n",
      "[POST]    |annotation pour l'id: 183704 ark: btv1b9012755kf1\n",
      "[POST]    |annotation pour l'id: 183705 ark: btv1b9012771pf1\n",
      "[POST]    |annotation pour l'id: 183706 ark: btv1b9012873vf1\n",
      "[POST]    |annotation pour l'id: 183707 ark: btv1b9012979pf1\n",
      "[POST]    |annotation pour l'id: 183708 ark: btv1b9013010wf1\n",
      "[POST]    |annotation pour l'id: 183709 ark: btv1b9013049rf1\n",
      "[POST]    |annotation pour l'id: 183710 ark: btv1b9013094kf1\n",
      "[POST]    |annotation pour l'id: 183711 ark: btv1b9013125pf1\n",
      "[POST]    |annotation pour l'id: 183712 ark: btv1b9013134nf1\n",
      "[POST]    |annotation pour l'id: 183713 ark: btv1b9013341gf1\n",
      "[POST]    |annotation pour l'id: 183715 ark: btv1b9013620bf1\n",
      "[POST]    |annotation pour l'id: 183716 ark: btv1b90136292f1\n",
      "[POST]    |annotation pour l'id: 183717 ark: btv1b9013660vf1\n",
      "[POST]    |annotation pour l'id: 183718 ark: btv1b9013738cf1\n",
      "[POST]    |annotation pour l'id: 183719 ark: btv1b9013808kf1\n",
      "[POST]    |annotation pour l'id: 183720 ark: btv1b90138112f1\n",
      "[POST]    |annotation pour l'id: 183721 ark: btv1b9013833nf1\n",
      "[POST]    |annotation pour l'id: 183722 ark: btv1b90138379f1\n",
      "[POST]    |annotation pour l'id: 183723 ark: btv1b9013861zf1\n",
      "[POST]    |annotation pour l'id: 183724 ark: btv1b9013879nf1\n",
      "[POST]    |annotation pour l'id: 183725 ark: btv1b9013881qf1\n",
      "[POST]    |annotation pour l'id: 183726 ark: btv1b9013899df1\n",
      "[POST]    |annotation pour l'id: 183727 ark: btv1b9013926vf1\n",
      "[POST]    |annotation pour l'id: 183728 ark: btv1b9013948ff1\n",
      "[POST]    |annotation pour l'id: 183729 ark: btv1b9014030zf1\n",
      "[POST]    |annotation pour l'id: 183730 ark: btv1b9014040bf1\n",
      "[POST]    |annotation pour l'id: 183731 ark: btv1b9014064rf1\n",
      "[POST]    |annotation pour l'id: 183732 ark: btv1b9014076zf1\n",
      "[POST]    |annotation pour l'id: 183733 ark: btv1b90140974f1\n",
      "[POST]    |annotation pour l'id: 183734 ark: btv1b9014175wf1\n",
      "[POST]    |annotation pour l'id: 183735 ark: btv1b9014210wf1\n",
      "[POST]    |annotation pour l'id: 183736 ark: btv1b90142119f1\n",
      "[POST]    |annotation pour l'id: 183737 ark: btv1b9014251tf1\n",
      "[POST]    |annotation pour l'id: 183738 ark: btv1b9014281zf1\n",
      "[POST]    |annotation pour l'id: 183739 ark: btv1b9014340cf1\n",
      "[POST]    |annotation pour l'id: 183740 ark: btv1b9014341sf1\n",
      "[POST]    |annotation pour l'id: 183741 ark: btv1b9014369vf1\n",
      "[POST]    |annotation pour l'id: 183742 ark: btv1b9014380wf1\n",
      "[POST]    |annotation pour l'id: 183743 ark: btv1b9014409xf1\n",
      "[POST]    |annotation pour l'id: 183744 ark: btv1b9014436tf1\n",
      "[POST]    |annotation pour l'id: 183745 ark: btv1b90144807f1\n",
      "[POST]    |annotation pour l'id: 183747 ark: btv1b90145291f1\n",
      "[POST]    |annotation pour l'id: 183748 ark: btv1b9014533xf1\n",
      "[POST]    |annotation pour l'id: 183749 ark: btv1b90146249f1\n",
      "[POST]    |annotation pour l'id: 183750 ark: btv1b9014706qf1\n",
      "[POST]    |annotation pour l'id: 183751 ark: btv1b90147148f1\n",
      "[POST]    |annotation pour l'id: 183752 ark: btv1b9014731sf1\n",
      "[POST]    |annotation pour l'id: 183754 ark: btv1b90148225f1\n",
      "[POST]    |annotation pour l'id: 183755 ark: btv1b9014887hf1\n",
      "[POST]    |annotation pour l'id: 183756 ark: btv1b9014889bf1\n",
      "[POST]    |annotation pour l'id: 183757 ark: btv1b9014923xf1\n",
      "[POST]    |annotation pour l'id: 183758 ark: btv1b9014924bf1\n",
      "[POST]    |annotation pour l'id: 183759 ark: btv1b9014936jf1\n",
      "[POST]    |annotation pour l'id: 183760 ark: btv1b90149747f1\n",
      "[POST]    |annotation pour l'id: 183761 ark: btv1b9014984mf1\n",
      "[POST]    |annotation pour l'id: 183762 ark: btv1b9015010hf1\n",
      "[POST]    |annotation pour l'id: 183763 ark: btv1b90150464f1\n",
      "[POST]    |annotation pour l'id: 183764 ark: btv1b9015092cf1\n",
      "[POST]    |annotation pour l'id: 183765 ark: btv1b90151363f1\n",
      "[POST]    |annotation pour l'id: 183766 ark: btv1b90151400f1\n",
      "[POST]    |annotation pour l'id: 183767 ark: btv1b9015172zf1\n",
      "[POST]    |annotation pour l'id: 183768 ark: btv1b9015209jf1\n",
      "[POST]    |annotation pour l'id: 183769 ark: btv1b9015225nf1\n",
      "[POST]    |annotation pour l'id: 183770 ark: btv1b90152299f1\n",
      "[POST]    |annotation pour l'id: 183771 ark: btv1b90152336f1\n",
      "[POST]    |annotation pour l'id: 183772 ark: btv1b9015241rf1\n",
      "[POST]    |annotation pour l'id: 183773 ark: btv1b9015253zf1\n",
      "[POST]    |annotation pour l'id: 183774 ark: btv1b9015254cf1\n",
      "[POST]    |annotation pour l'id: 183775 ark: btv1b9015255sf1\n",
      "[POST]    |annotation pour l'id: 183776 ark: btv1b9015271wf1\n",
      "[POST]    |annotation pour l'id: 183777 ark: btv1b9015289kf1\n",
      "[POST]    |annotation pour l'id: 183778 ark: btv1b9015304tf1\n",
      "[POST]    |annotation pour l'id: 183779 ark: btv1b9015306nf1\n",
      "[POST]    |annotation pour l'id: 183780 ark: btv1b9015320xf1\n",
      "[POST]    |annotation pour l'id: 183781 ark: btv1b90153502f1\n",
      "[POST]    |annotation pour l'id: 183782 ark: btv1b9015356jf1\n",
      "[POST]    |annotation pour l'id: 183783 ark: btv1b9015384vf1\n",
      "[POST]    |annotation pour l'id: 183784 ark: btv1b90153910f1\n",
      "[POST]    |annotation pour l'id: 183785 ark: btv1b9015430nf1\n",
      "[POST]    |annotation pour l'id: 183786 ark: btv1b9015433wf1\n",
      "[POST]    |annotation pour l'id: 183787 ark: btv1b9015450df1\n",
      "[POST]    |annotation pour l'id: 183788 ark: btv1b90154616f1\n",
      "[POST]    |annotation pour l'id: 183789 ark: btv1b9015478gf1\n",
      "[POST]    |annotation pour l'id: 183790 ark: btv1b9015559gf1\n",
      "[POST]    |annotation pour l'id: 183791 ark: btv1b9015575kf1\n",
      "[POST]    |annotation pour l'id: 183792 ark: btv1b90155923f1\n",
      "[POST]    |annotation pour l'id: 183793 ark: btv1b9015613tf1\n",
      "[POST]    |annotation pour l'id: 183794 ark: btv1b9015716df1\n",
      "[POST]    |annotation pour l'id: 183795 ark: btv1b9015721qf1\n",
      "[POST]    |annotation pour l'id: 183796 ark: btv1b9015737kf1\n",
      "[POST]    |annotation pour l'id: 183797 ark: btv1b90157595f1\n",
      "[POST]    |annotation pour l'id: 183798 ark: btv1b90157706f1\n",
      "[POST]    |annotation pour l'id: 183799 ark: btv1b90158442f1\n",
      "[POST]    |annotation pour l'id: 183800 ark: btv1b9015852mf1\n",
      "[POST]    |annotation pour l'id: 183801 ark: btv1b9015868gf1\n",
      "[POST]    |annotation pour l'id: 183802 ark: btv1b9015880xf1\n",
      "[POST]    |annotation pour l'id: 183803 ark: btv1b90159007f1\n",
      "[POST]    |annotation pour l'id: 183804 ark: btv1b9015901nf1\n",
      "[POST]    |annotation pour l'id: 183805 ark: btv1b90159022f1\n",
      "[POST]    |annotation pour l'id: 183806 ark: btv1b90159059f1\n",
      "[POST]    |annotation pour l'id: 183807 ark: btv1b9015945tf1\n",
      "[POST]    |annotation pour l'id: 183808 ark: btv1b9015952zf1\n",
      "[POST]    |annotation pour l'id: 183809 ark: btv1b90159734f1\n",
      "[POST]    |annotation pour l'id: 183810 ark: btv1b90159786f1\n",
      "[POST]    |annotation pour l'id: 183811 ark: btv1b9016021mf1\n",
      "[POST]    |annotation pour l'id: 183812 ark: btv1b90160844f1\n",
      "[POST]    |annotation pour l'id: 183813 ark: btv1b9016095xf1\n",
      "[POST]    |annotation pour l'id: 183814 ark: btv1b90161172f1\n",
      "[POST]    |annotation pour l'id: 183815 ark: btv1b9016125mf1\n",
      "[POST]    |annotation pour l'id: 183816 ark: btv1b9016137tf1\n",
      "[POST]    |annotation pour l'id: 183817 ark: btv1b9016161gf1\n",
      "[POST]    |annotation pour l'id: 183818 ark: btv1b90161795f1\n",
      "[POST]    |annotation pour l'id: 183819 ark: btv1b9016182nf1\n",
      "[POST]    |annotation pour l'id: 183820 ark: btv1b9016187qf1\n",
      "[POST]    |annotation pour l'id: 183821 ark: btv1b9016191mf1\n",
      "[POST]    |annotation pour l'id: 183822 ark: btv1b9016194vf1\n",
      "[POST]    |annotation pour l'id: 183823 ark: btv1b9016211xf1\n",
      "[POST]    |annotation pour l'id: 183824 ark: btv1b9016224jf1\n",
      "[POST]    |annotation pour l'id: 183825 ark: btv1b9016226cf1\n",
      "[POST]    |annotation pour l'id: 183826 ark: btv1b90162308f1\n",
      "[POST]    |annotation pour l'id: 183827 ark: btv1b90162464f1\n",
      "[POST]    |annotation pour l'id: 183828 ark: btv1b90163185f1\n",
      "[POST]    |annotation pour l'id: 183829 ark: btv1b9016356vf1\n",
      "[POST]    |annotation pour l'id: 183830 ark: btv1b9016373cf1\n",
      "[POST]    |annotation pour l'id: 183831 ark: btv1b9016395zf1\n",
      "[POST]    |annotation pour l'id: 183832 ark: btv1b9016396cf1\n",
      "[POST]    |annotation pour l'id: 183833 ark: btv1b9016407qf1\n",
      "[POST]    |annotation pour l'id: 183834 ark: btv1b9016409jf1\n",
      "[POST]    |annotation pour l'id: 183835 ark: btv1b90164210f1\n",
      "[POST]    |annotation pour l'id: 183836 ark: btv1b9016425nf1\n",
      "[POST]    |annotation pour l'id: 183838 ark: btv1b9016475jf1\n",
      "[POST]    |annotation pour l'id: 183839 ark: btv1b9016554qf1\n",
      "[POST]    |annotation pour l'id: 183840 ark: btv1b9016728xf1\n",
      "[POST]    |annotation pour l'id: 183841 ark: btv1b9016777df1\n",
      "[POST]    |annotation pour l'id: 183842 ark: btv1b90168058f1\n",
      "[POST]    |annotation pour l'id: 183843 ark: btv1b90170490f1\n",
      "[POST]    |annotation pour l'id: 183844 ark: btv1b9017157wf1\n",
      "[POST]    |annotation pour l'id: 183845 ark: btv1b9017179gf1\n",
      "[POST]    |annotation pour l'id: 183847 ark: btv1b9017237gf1\n",
      "[POST]    |annotation pour l'id: 183848 ark: btv1b9017265sf1\n",
      "[POST]    |annotation pour l'id: 183849 ark: btv1b9017297rf1\n",
      "[POST]    |annotation pour l'id: 183850 ark: btv1b9017382nf1\n",
      "[POST]    |annotation pour l'id: 183851 ark: btv1b9017447jf1\n",
      "[POST]    |annotation pour l'id: 183852 ark: btv1b9017456hf1\n",
      "[POST]    |annotation pour l'id: 183853 ark: btv1b90175541f1\n",
      "[POST]    |annotation pour l'id: 183854 ark: btv1b90175578f1\n",
      "[POST]    |annotation pour l'id: 183855 ark: btv1b9017581xf1\n",
      "[POST]    |annotation pour l'id: 183856 ark: btv1b9017640bf1\n",
      "[POST]    |annotation pour l'id: 183857 ark: btv1b9017659ff1\n",
      "[POST]    |annotation pour l'id: 183858 ark: btv1b90176670f1\n",
      "[POST]    |annotation pour l'id: 183859 ark: btv1b9017704tf1\n",
      "[POST]    |annotation pour l'id: 183860 ark: btv1b90177146f1\n",
      "[POST]    |annotation pour l'id: 183861 ark: btv1b9017744bf1\n",
      "[POST]    |annotation pour l'id: 183862 ark: btv1b9017777qf1\n",
      "[POST]    |annotation pour l'id: 183864 ark: btv1b9017837jf1\n",
      "[POST]    |annotation pour l'id: 183865 ark: btv1b9017844pf1\n",
      "[POST]    |annotation pour l'id: 183866 ark: btv1b9017856wf1\n",
      "[POST]    |annotation pour l'id: 183867 ark: btv1b9017858qf1\n",
      "[POST]    |annotation pour l'id: 183868 ark: btv1b90178616f1\n",
      "[POST]    |annotation pour l'id: 183869 ark: btv1b9017869hf1\n",
      "[POST]    |annotation pour l'id: 183870 ark: btv1b90178757f1\n",
      "[POST]    |annotation pour l'id: 183871 ark: btv1b9017878gf1\n",
      "[POST]    |annotation pour l'id: 183872 ark: btv1b90178935f1\n",
      "[POST]    |annotation pour l'id: 183873 ark: btv1b9017905xf1\n",
      "[POST]    |annotation pour l'id: 183874 ark: btv1b9017937wf1\n",
      "[POST]    |annotation pour l'id: 183875 ark: btv1b9018043tf1\n",
      "[POST]    |annotation pour l'id: 183876 ark: btv1b90180588f1\n",
      "[POST]    |annotation pour l'id: 183877 ark: btv1b9018074cf1\n",
      "[POST]    |annotation pour l'id: 183878 ark: btv1b9018156sf1\n",
      "[POST]    |annotation pour l'id: 183879 ark: btv1b90181665f1\n",
      "[POST]    |annotation pour l'id: 183880 ark: btv1b9018176jf1\n",
      "[POST]    |annotation pour l'id: 183881 ark: btv1b90181969f1\n",
      "[POST]    |annotation pour l'id: 183882 ark: btv1b9018248kf1\n",
      "[POST]    |annotation pour l'id: 183883 ark: btv1b9018326bf1\n",
      "[POST]    |annotation pour l'id: 183884 ark: btv1b9018342ff1\n",
      "[POST]    |annotation pour l'id: 183885 ark: btv1b90183626f1\n",
      "[POST]    |annotation pour l'id: 183886 ark: btv1b90183693f1\n",
      "[POST]    |annotation pour l'id: 183887 ark: btv1b90183782f1\n",
      "[POST]    |annotation pour l'id: 183888 ark: btv1b9018405hf1\n",
      "[POST]    |annotation pour l'id: 183889 ark: btv1b9018442sf1\n",
      "[POST]    |annotation pour l'id: 183890 ark: btv1b90184436f1\n",
      "resume    |748 annotations ajoutées\n"
     ]
    }
   ],
   "source": [
    "add_annotation_from_extern(project, dataset)"
   ]
  }
 ],
 "metadata": {
  "celltoolbar": "Edit Metadata",
  "kernelspec": {
   "display_name": "LABEL STUDIO",
   "language": "python",
   "name": "label-studio"
  },
  "language_info": {
   "codemirror_mode": {
    "name": "ipython",
    "version": 3
   },
   "file_extension": ".py",
   "mimetype": "text/x-python",
   "name": "python",
   "nbconvert_exporter": "python",
   "pygments_lexer": "ipython3",
   "version": "3.9.12"
  }
 },
 "nbformat": 4,
 "nbformat_minor": 5
}
